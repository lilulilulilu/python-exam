{
 "cells": [
  {
   "cell_type": "code",
   "execution_count": 1,
   "metadata": {},
   "outputs": [
    {
     "name": "stdout",
     "output_type": "stream",
     "text": [
      "[1, 2, 3, 5, 6, 4]\n",
      "2\n"
     ]
    }
   ],
   "source": [
    "def partition(nums, start, end) -> int:\n",
    "    pivot = nums[start]\n",
    "    i = start\n",
    "    j = end\n",
    "    while i < j:\n",
    "        while i < j:\n",
    "            if nums[j] < pivot:\n",
    "                nums[i], nums[j] = nums[j], nums[i]\n",
    "                break\n",
    "            j = j - 1\n",
    "            \n",
    "        while i < j:\n",
    "            if nums[i] > pivot:\n",
    "                nums[i], nums[j] = nums[j], nums[i]\n",
    "                break\n",
    "            i = i + 1 \n",
    "        print(nums)\n",
    "        \n",
    "    nums[i] = pivot\n",
    "    return i\n",
    "    \n",
    "    \n",
    "numd = [3, 2, 1, 5, 6, 4]\n",
    "\n",
    "print(partition(numd, 0, len(numd) - 1))"
   ]
  },
  {
   "cell_type": "code",
   "execution_count": 9,
   "metadata": {},
   "outputs": [
    {
     "name": "stdout",
     "output_type": "stream",
     "text": [
      "[1, 2, 3, 4, 5, 6]\n",
      "[2, 3]\n",
      "[]\n"
     ]
    }
   ],
   "source": [
    "nums = [1,2,3,4,5,6]\n",
    "\n",
    "print(nums)\n",
    "print(nums[1:3])\n",
    "print(nums[1:-11])\n"
   ]
  },
  {
   "cell_type": "code",
   "execution_count": 7,
   "metadata": {},
   "outputs": [],
   "source": [
    "del nums"
   ]
  },
  {
   "cell_type": "code",
   "execution_count": 2,
   "metadata": {},
   "outputs": [
    {
     "data": {
      "text/plain": [
       "2"
      ]
     },
     "execution_count": 2,
     "metadata": {},
     "output_type": "execute_result"
    }
   ],
   "source": [
    "5//2"
   ]
  },
  {
   "cell_type": "code",
   "execution_count": null,
   "metadata": {},
   "outputs": [],
   "source": []
  }
 ],
 "metadata": {
  "kernelspec": {
   "display_name": "py310",
   "language": "python",
   "name": "python3"
  },
  "language_info": {
   "codemirror_mode": {
    "name": "ipython",
    "version": 3
   },
   "file_extension": ".py",
   "mimetype": "text/x-python",
   "name": "python",
   "nbconvert_exporter": "python",
   "pygments_lexer": "ipython3",
   "version": "3.10.13"
  }
 },
 "nbformat": 4,
 "nbformat_minor": 2
}
