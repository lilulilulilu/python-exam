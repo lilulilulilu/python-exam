{
 "cells": [
  {
   "cell_type": "code",
   "execution_count": 11,
   "metadata": {},
   "outputs": [
    {
     "name": "stdout",
     "output_type": "stream",
     "text": [
      "('raise a exception', '!')\n",
      "end\n"
     ]
    }
   ],
   "source": [
    "try:\n",
    "    raise Exception(\"raise a exception\", \"!\")\n",
    "except Exception as e:\n",
    "    print(str(e))\n",
    "except:\n",
    "    print(\"except\")\n",
    "else:\n",
    "    pass\n",
    "    # 如果 try 块中没有异常抛出，执行 else 块\n",
    "    # 这里可以放置因 try 块成功执行而需要执行的代码。\n",
    "finally:\n",
    "    print(\"end\")"
   ]
  },
  {
   "cell_type": "markdown",
   "metadata": {},
   "source": [
    "SELECT <列名或表达式序列>\n",
    "   FROM <表名或视图名序列>\n",
    "   [WHERE <行条件表达式>]\n",
    "   [GROUP BY <列名序列>\n",
    "   [HAVING <组条件表达式>] ]  \n",
    "   [ORDER BY <排序列名>[ASC|DESC] [,...]]"
   ]
  },
  {
   "cell_type": "code",
   "execution_count": 1,
   "metadata": {},
   "outputs": [],
   "source": [
    "fn = \"hello.txt\"\n",
    "try:\n",
    "    with open(fn, \"w\") as f:\n",
    "        f.write(\"Hello, world!\")\n",
    "except FileNotFoundError:\n",
    "        # 文件不存在的错误处理\n",
    "        print(\"Error: 文件未找到，请检查文件名和路径是否正确。\")\n",
    "except IOError:\n",
    "    # 处理文件读写错误\n",
    "    print(\"Error: 读取文件时发生错误。\")\n",
    "else:\n",
    "    # 如果没有异常发生执行这部分代码\n",
    "    print(\"文件读取成功。\")\n",
    "finally:\n",
    "    # 无论是否发生异常，都执行这部分代码\n",
    "    print(\"读取操作尝试完成。\")"
   ]
  },
  {
   "cell_type": "code",
   "execution_count": 2,
   "metadata": {},
   "outputs": [
    {
     "name": "stdout",
     "output_type": "stream",
     "text": [
      "Caught an error: 输入必须是非负数 - Faulty expression: -10\n"
     ]
    }
   ],
   "source": [
    "# 定义自定义异常\n",
    "class Error(Exception):\n",
    "    \"\"\"基类，用于其他异常的派生。\"\"\"\n",
    "    pass\n",
    "\n",
    "class InputError(Error):\n",
    "    \"\"\"异常，表示输入错误。\n",
    "\n",
    "    属性:\n",
    "        expression -- 发生错误的表达式\n",
    "        message -- 解释错误的信息\n",
    "    \"\"\"\n",
    "    def __init__(self, expression, message):\n",
    "        self.expression = expression\n",
    "        self.message = message\n",
    "\n",
    "# 使用自定义异常\n",
    "def test_input(test_data):\n",
    "    if test_data < 0:\n",
    "        raise InputError(test_data, \"输入必须是非负数\")\n",
    "\n",
    "try:\n",
    "    test_input(-10)\n",
    "except InputError as e:\n",
    "    print(f'Caught an error: {e.message} - Faulty expression: {e.expression}')\n"
   ]
  }
 ],
 "metadata": {
  "kernelspec": {
   "display_name": "py310",
   "language": "python",
   "name": "python3"
  },
  "language_info": {
   "codemirror_mode": {
    "name": "ipython",
    "version": 3
   },
   "file_extension": ".py",
   "mimetype": "text/x-python",
   "name": "python",
   "nbconvert_exporter": "python",
   "pygments_lexer": "ipython3",
   "version": "3.10.13"
  }
 },
 "nbformat": 4,
 "nbformat_minor": 2
}
