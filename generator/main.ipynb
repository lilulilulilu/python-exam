{
 "cells": [
  {
   "cell_type": "markdown",
   "metadata": {},
   "source": [
    "# yield\n",
    "the yield keyword is used within a function to turn the function into a generator. A generator is a type of iterable that generates its values on the fly and only holds one value in memory at a time, which makes them particularly memory-efficient for large datasets."
   ]
  },
  {
   "cell_type": "code",
   "execution_count": null,
   "metadata": {},
   "outputs": [],
   "source": [
    "# 1.生成器函数\n",
    "def gen(nums):\n",
    "    while nums > 0:\n",
    "        yield nums\n",
    "        nums -= 1\n",
    "# 调用生成器函数会生成一个生成器对象\n",
    "g = gen(5)\n",
    "\n",
    "print(\"g\", g) # output: g <generator object gen at 0x7fe168c2e9d0>\n",
    "\n",
    "#对生成器对象使用next函数才开始真正执行函数本体\n",
    "first = next(g)\n",
    "print(\"first:\", first) # output: first: 5\n",
    "second = next(g)\n",
    "print(\"second:\", second) # output: second: 4\n",
    "for i in g:\n",
    "    print(i)"
   ]
  },
  {
   "cell_type": "code",
   "execution_count": null,
   "metadata": {},
   "outputs": [],
   "source": [
    "# 2.生成器表达式\n",
    "\n",
    "g2 = (i for i in range(5, 0, -1)) # 生成器表达式\n",
    "print(\"g2\", g2) # output: g2 <generator object <genexpr> at 0x7fe168c2e9d0>\n",
    "for i in g2:\n",
    "    print(i)\n",
    "\n",
    "# 2.1判断g2是否是生成器对象\n",
    "from collections.abc import Generator\n",
    "print(isinstance(g2, Generator)) # output: True"
   ]
  },
  {
   "cell_type": "code",
   "execution_count": null,
   "metadata": {},
   "outputs": [],
   "source": [
    "# 3.生成器函数的另一种写法\n",
    "def gen2(nums):\n",
    "    for i in range(nums, 0, -1):  # (5, 4, 3, 2, 1)\n",
    "        yield i\n",
    "\n",
    "# 判断生成器里面是否有某个元素\n",
    "print(5 in gen2(5)) # output: True\n",
    "\n",
    "# 判断生成器是否还有元素\n",
    "g3 = gen2(5)\n",
    "for i in range(6):\n",
    "    try:\n",
    "        print(next(g3))\n",
    "    except StopIteration:\n",
    "        print(\"No more elements in g3\")\n",
    "        break"
   ]
  },
  {
   "cell_type": "code",
   "execution_count": null,
   "metadata": {},
   "outputs": [],
   "source": [
    "gen = (x for x in range(3))\n",
    "\n",
    "next_element = next(gen, None)  # 如果没有元素，返回 None\n",
    "\n",
    "while next_element is not None:\n",
    "    print(\"next_element:\", next_element)\n",
    "    next_element = next(gen, None)\n",
    "\n",
    "print('no more elements in gen')"
   ]
  }
 ],
 "metadata": {
  "kernelspec": {
   "display_name": "py310",
   "language": "python",
   "name": "python3"
  },
  "language_info": {
   "codemirror_mode": {
    "name": "ipython",
    "version": 3
   },
   "file_extension": ".py",
   "mimetype": "text/x-python",
   "name": "python",
   "nbconvert_exporter": "python",
   "pygments_lexer": "ipython3",
   "version": "3.10.13"
  }
 },
 "nbformat": 4,
 "nbformat_minor": 2
}
