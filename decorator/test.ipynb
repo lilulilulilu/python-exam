{
 "cells": [
  {
   "cell_type": "code",
   "execution_count": 3,
   "metadata": {},
   "outputs": [
    {
     "name": "stdout",
     "output_type": "stream",
     "text": [
      "MyClass2 instance is now callable\n",
      "None\n"
     ]
    }
   ],
   "source": [
    "\n",
    "class MyClass2:\n",
    "    def __call__(self):\n",
    "        print(\"MyClass2 instance is now callable\")\n",
    "\n",
    "instance = MyClass2()\n",
    "# 这时候实例是可被调用的\n",
    "print(instance())  # No exception will be thrown now\n"
   ]
  }
 ],
 "metadata": {
  "kernelspec": {
   "display_name": "py310",
   "language": "python",
   "name": "python3"
  },
  "language_info": {
   "codemirror_mode": {
    "name": "ipython",
    "version": 3
   },
   "file_extension": ".py",
   "mimetype": "text/x-python",
   "name": "python",
   "nbconvert_exporter": "python",
   "pygments_lexer": "ipython3",
   "version": "3.10.13"
  }
 },
 "nbformat": 4,
 "nbformat_minor": 2
}
