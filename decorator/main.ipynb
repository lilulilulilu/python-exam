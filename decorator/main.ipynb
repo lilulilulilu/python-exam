{
 "cells": [
  {
   "cell_type": "code",
   "execution_count": 1,
   "metadata": {},
   "outputs": [
    {
     "name": "stdout",
     "output_type": "stream",
     "text": [
      "6\n",
      "9\n"
     ]
    }
   ],
   "source": [
    "def double(x):\n",
    "    return x * 2\n",
    "\n",
    "def triple(x):\n",
    "    return x * 3\n",
    "\n",
    "def cal(func, x):\n",
    "    return func(x)\n",
    "\n",
    "print(cal(double, 3))\n",
    "print(cal(triple, 3))"
   ]
  },
  {
   "cell_type": "code",
   "execution_count": null,
   "metadata": {},
   "outputs": [
    {
     "name": "stdout",
     "output_type": "stream",
     "text": [
      "args: (1, 2, 3)\n",
      "kwargs: {'a': 4, 'b': 5}\n"
     ]
    }
   ],
   "source": [
    "def function_with_both(*args, **kwargs):\n",
    "    print(\"args:\", args)\n",
    "    print(\"kwargs:\", kwargs)\n",
    "# 正确的调用方式\n",
    "function_with_both(1, 2, 3, a=4, b=5)\n",
    "\n",
    "# 错误的调用方式，会导致语法错误\n"
   ]
  },
  {
   "cell_type": "code",
   "execution_count": 11,
   "metadata": {},
   "outputs": [
    {
     "name": "stdout",
     "output_type": "stream",
     "text": [
      "['07895462130', '919875641230', '9195969878']\n"
     ]
    }
   ],
   "source": [
    "l = [\"07895462130\",\n",
    "\"919875641230\",\n",
    "\"9195969878\"]\n",
    "\n",
    "print(l)\n",
    "\n",
    "format_l = []\n",
    "for s in l:\n",
    "    if s.startswith('0') and len(s) == 11:\n",
    "        fomat_s = \"+91 \" + s[1:]\n",
    "        format_l.append(fomat_s)\n",
    "    elif s.startswith('91') and len(s) == 12:\n",
    "        fomat_s = \"+91 \" + s[2:]\n",
    "        format_l.append(fomat_s)\n",
    "    elif s.startswith('+91') and len(s) == 13:\n",
    "        fomat_s = \"+91 \" + s[3:]\n",
    "        format_l.append(fomat_s)\n",
    "    elif len(s) == 10:\n",
    "        fomat_s = \"+91 \" + s\n",
    "        format_l.append(fomat_s)\n",
    "        "
   ]
  },
  {
   "cell_type": "code",
   "execution_count": 12,
   "metadata": {},
   "outputs": [
    {
     "name": "stdout",
     "output_type": "stream",
     "text": [
      "['+91 7895462130', '+91 9195969878', '+91 9875641230']\n"
     ]
    }
   ],
   "source": [
    "print(sorted(format_l))"
   ]
  },
  {
   "cell_type": "code",
   "execution_count": 13,
   "metadata": {},
   "outputs": [
    {
     "name": "stdout",
     "output_type": "stream",
     "text": [
      "[('Mike', 'Thomson', 20, 'M'), ('Andria', 'Bustle', 30, 'F'), ('Robert', 'Bustle', 32, 'M')]\n"
     ]
    }
   ],
   "source": [
    "people = [\n",
    "    (\"Mike\", \"Thomson\", 20, \"M\"),\n",
    "    (\"Robert\", \"Bustle\", 32, \"M\"),\n",
    "    (\"Andria\", \"Bustle\", 30, \"F\")\n",
    "]\n",
    "\n",
    "# 使用 sorted 函数和 lambda 函数作为排序键\n",
    "sorted_people = sorted(people, key=lambda person: person[2])\n",
    "\n",
    "print(sorted_people)\n"
   ]
  },
  {
   "cell_type": "code",
   "execution_count": 14,
   "metadata": {},
   "outputs": [
    {
     "data": {
      "text/plain": [
       "dict_values([1, 1])"
      ]
     },
     "execution_count": 14,
     "metadata": {},
     "output_type": "execute_result"
    }
   ],
   "source": [
    "mp = {\n",
    "    \"a\": 1,\n",
    "    \"b\": 1\n",
    "}\n",
    "mp.values()"
   ]
  },
  {
   "cell_type": "code",
   "execution_count": 18,
   "metadata": {},
   "outputs": [
    {
     "name": "stdout",
     "output_type": "stream",
     "text": [
      "a 1\n",
      "b 2\n",
      "c 3\n"
     ]
    }
   ],
   "source": [
    "l1 = [1,2,3]\n",
    "l2 = ['a','b','c']\n",
    "for k, v in zip(l2, l1):\n",
    "    print(k,v)\n"
   ]
  }
 ],
 "metadata": {
  "kernelspec": {
   "display_name": "base",
   "language": "python",
   "name": "python3"
  },
  "language_info": {
   "codemirror_mode": {
    "name": "ipython",
    "version": 3
   },
   "file_extension": ".py",
   "mimetype": "text/x-python",
   "name": "python",
   "nbconvert_exporter": "python",
   "pygments_lexer": "ipython3",
   "version": "3.11.5"
  }
 },
 "nbformat": 4,
 "nbformat_minor": 2
}
