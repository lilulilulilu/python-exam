{
 "cells": [
  {
   "cell_type": "code",
   "execution_count": 9,
   "metadata": {},
   "outputs": [
    {
     "name": "stdout",
     "output_type": "stream",
     "text": [
      "123456\n",
      "hello world12\n"
     ]
    }
   ],
   "source": [
    "from typing import Generic, TypeVar\n",
    "\n",
    "T = TypeVar('T')  # 定义一个类型变量T\n",
    "T2 = TypeVar('T2')\n",
    "\n",
    "class Box(Generic[T, T2]):\n",
    "    def __init__(self, content: T, content2: T2) -> None:\n",
    "        self.content = content\n",
    "        self.content2 = content2\n",
    "\n",
    "    def open(self) -> T:\n",
    "        return str(self.content) + str(self.content2)\n",
    "\n",
    "# 使用 Box 类存储不同类型的数据\n",
    "box1 = Box[int, int](123, 456)\n",
    "box2 = Box[str, int](\"hello world\", 12)\n",
    "\n",
    "print(box1.open())  # 输出: 123456\n",
    "print(box2.open())  # 输出: hello world12\n"
   ]
  },
  {
   "cell_type": "code",
   "execution_count": 6,
   "metadata": {},
   "outputs": [
    {
     "name": "stdout",
     "output_type": "stream",
     "text": [
      "1\n"
     ]
    }
   ],
   "source": [
    "from typing import Generic, TypeVar\n",
    "\n",
    "T = TypeVar('T')\n",
    "\n",
    "class Box(Generic[T]):\n",
    "    def __init__(self, content: T):\n",
    "        self.content = content\n",
    "\n",
    "    def get_content(self) -> T:\n",
    "        return self.content\n",
    "\n",
    "    def __str__(self):\n",
    "        return f'Box({self.content})'\n",
    "    \n",
    "print(Box(1).get_content())"
   ]
  },
  {
   "cell_type": "code",
   "execution_count": 3,
   "metadata": {},
   "outputs": [
    {
     "name": "stdout",
     "output_type": "stream",
     "text": [
      "f(5): 5\n"
     ]
    }
   ],
   "source": [
    "T = TypeVar('T')\n",
    "def f(e: T) -> T:\n",
    "    return e\n",
    "print(\"f(5):\", f(5))"
   ]
  }
 ],
 "metadata": {
  "kernelspec": {
   "display_name": "py310",
   "language": "python",
   "name": "python3"
  },
  "language_info": {
   "codemirror_mode": {
    "name": "ipython",
    "version": 3
   },
   "file_extension": ".py",
   "mimetype": "text/x-python",
   "name": "python",
   "nbconvert_exporter": "python",
   "pygments_lexer": "ipython3",
   "version": "3.10.13"
  }
 },
 "nbformat": 4,
 "nbformat_minor": 2
}
