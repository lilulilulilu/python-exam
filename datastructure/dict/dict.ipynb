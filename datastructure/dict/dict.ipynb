{
 "cells": [
  {
   "cell_type": "code",
   "execution_count": null,
   "metadata": {},
   "outputs": [],
   "source": [
    "# 1.创建一个空dict，并往里面加入k-v对\n",
    "d1 = {}\n",
    "d1['alice'] = 88\n",
    "d1['bob'] = 77\n",
    "print(d1)\n",
    "\n",
    "# 2.创建一个带有初始值的dict\n",
    "d2 = {\"alice\": 88, \"bob\": 77}\n",
    "print(d2)\n",
    "\n",
    "# 3.用dict comprehension创建dict\n",
    "d3 = { i: 2*i for i in range(3)}\n",
    "print(\"d3:\", d3) # {0: 0, 1: 2, 2: 4}\n",
    "\n",
    "# 删除一个元素, in constant time\n",
    "d1.pop('alice')\n",
    "\n",
    "#looping through maps\n",
    "mp = {\"alice\": 88, \"bob\": 77}\n",
    "for k in mp:\n",
    "  print(k, mp[k])\n",
    "\n",
    "for v in mp.values():\n",
    "  print(v)\n",
    "\n",
    "for k, v in mp.items():\n",
    "  print(k, v)"
   ]
  },
  {
   "cell_type": "code",
   "execution_count": 11,
   "metadata": {},
   "outputs": [
    {
     "name": "stdout",
     "output_type": "stream",
     "text": [
      "{'x': 2, 'y': 3}\n",
      "{'x': 1, 'y': 2}\n",
      "{'x': 1, 'y': 2}\n"
     ]
    }
   ],
   "source": [
    "# 1.dict作为函数入参是否加**，示例如下\n",
    "def my_print1(**mp): # mp是一个dict, 调用形式如下两种\n",
    "    print(mp) \n",
    "\n",
    "# （1）x和y被组装到一个dict传给mp   \n",
    "my_print1(x=2, y=3) # {'x': 2, 'y': 3}\n",
    "\n",
    "# （2）先显示把x和y组装到一个dict，然后传给mp,则调用的入参需要加**\n",
    "mp = {\"x\":1, 'y':2} # {'x': 1, 'y': 2}\n",
    "my_print1(**mp)\n",
    "\n",
    "# 2.直接把mp这个dict传进来，那my_print2就不能像my_print那样接受任意个关键字参数了，而是只能接受一个类似mp的dict作为参数。\n",
    "def my_print2(mp): \n",
    "    print(mp)\n",
    "    \n",
    "my_print2(mp) # {'x': 1, 'y': 2}\n",
    "\n"
   ]
  }
 ],
 "metadata": {
  "kernelspec": {
   "display_name": "py310",
   "language": "python",
   "name": "python3"
  },
  "language_info": {
   "codemirror_mode": {
    "name": "ipython",
    "version": 3
   },
   "file_extension": ".py",
   "mimetype": "text/x-python",
   "name": "python",
   "nbconvert_exporter": "python",
   "pygments_lexer": "ipython3",
   "version": "3.10.13"
  }
 },
 "nbformat": 4,
 "nbformat_minor": 2
}
