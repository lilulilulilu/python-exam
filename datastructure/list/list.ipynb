{
 "cells": [
  {
   "cell_type": "code",
   "execution_count": 5,
   "metadata": {},
   "outputs": [
    {
     "name": "stdout",
     "output_type": "stream",
     "text": [
      "[('Robert', 'Bustle', 32, 'M'), ('Andria', 'Bustle', 30, 'F'), ('Mike', 'Thomson', 20, 'M')]\n"
     ]
    }
   ],
   "source": [
    "l4 = [\n",
    "    (\"Mike\", \"Thomson\", 20, \"M\"),\n",
    "    (\"Robert\", \"Bustle\", 32, \"M\"),\n",
    "    (\"Andria\", \"Bustle\", 30, \"F\")\n",
    "]\n",
    "l5 = sorted(l4, key=lambda x: x[2], reverse=True)\n",
    "print(l5)"
   ]
  },
  {
   "cell_type": "code",
   "execution_count": 6,
   "metadata": {},
   "outputs": [
    {
     "name": "stdout",
     "output_type": "stream",
     "text": [
      "{2, 3}\n",
      "{1, 4}\n"
     ]
    }
   ],
   "source": [
    "A = [1, 2, 3]\n",
    "B = [2, 3, 4]\n",
    "# A,B 中相同元素： \n",
    "print(set(A)&set(B)) # output: {2, 3}\n",
    "# A,B 中不同元素:  \n",
    "print(set(A)^set(B)) # output: {1, 4}"
   ]
  }
 ],
 "metadata": {
  "kernelspec": {
   "display_name": "py310",
   "language": "python",
   "name": "python3"
  },
  "language_info": {
   "codemirror_mode": {
    "name": "ipython",
    "version": 3
   },
   "file_extension": ".py",
   "mimetype": "text/x-python",
   "name": "python",
   "nbconvert_exporter": "python",
   "pygments_lexer": "ipython3",
   "version": "3.10.13"
  }
 },
 "nbformat": 4,
 "nbformat_minor": 2
}
