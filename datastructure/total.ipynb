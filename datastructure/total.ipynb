{
 "cells": [
  {
   "cell_type": "code",
   "execution_count": 4,
   "metadata": {},
   "outputs": [
    {
     "data": {
      "text/plain": [
       "['A', 'C', 'B', 'D']"
      ]
     },
     "execution_count": 4,
     "metadata": {},
     "output_type": "execute_result"
    }
   ],
   "source": [
    "def possible_order(jobs: dict) -> list[str]:\n",
    "    orders = []\n",
    "    jobs_num = len(jobs)\n",
    "    while len(orders) < jobs_num:\n",
    "        for k, v in jobs.items():\n",
    "            if len(v) == 0 and k not in orders:\n",
    "                orders.append(k)\n",
    "            else:\n",
    "                for e in orders:\n",
    "                    if e in v:\n",
    "                        v.remove(e)\n",
    "    \n",
    "    return orders\n",
    "    \n",
    "    \n",
    "jobs = {\n",
    "        \"A\": [],\n",
    "        \"B\": [\"A\", \"C\"],\n",
    "        \"C\": [],\n",
    "        \"D\": [\"B\"]\n",
    "}\n",
    "\n",
    "possible_order(jobs)"
   ]
  }
 ],
 "metadata": {
  "kernelspec": {
   "display_name": "py310",
   "language": "python",
   "name": "python3"
  },
  "language_info": {
   "codemirror_mode": {
    "name": "ipython",
    "version": 3
   },
   "file_extension": ".py",
   "mimetype": "text/x-python",
   "name": "python",
   "nbconvert_exporter": "python",
   "pygments_lexer": "ipython3",
   "version": "3.10.13"
  }
 },
 "nbformat": 4,
 "nbformat_minor": 2
}
