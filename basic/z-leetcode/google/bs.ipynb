{
 "cells": [
  {
   "cell_type": "code",
   "execution_count": 2,
   "metadata": {},
   "outputs": [
    {
     "data": {
      "text/plain": [
       "(0, 2)"
      ]
     },
     "execution_count": 2,
     "metadata": {},
     "output_type": "execute_result"
    }
   ],
   "source": [
    "import bisect\n",
    "\n",
    "\n",
    "i = bisect.bisect_left([[2,5], [9,13]], 2, key=lambda x: x[0]) # [[0, 1], [2,5]]\n",
    "j = bisect.bisect_right([[2,5], [9,13]], 13, key=lambda x: x[1]) # [[0, 1], [2,5]]\n",
    "i, j\n"
   ]
  },
  {
   "cell_type": "code",
   "execution_count": 3,
   "metadata": {},
   "outputs": [
    {
     "data": {
      "text/plain": [
       "1"
      ]
     },
     "execution_count": 3,
     "metadata": {},
     "output_type": "execute_result"
    }
   ],
   "source": [
    "import bisect\n",
    "j = bisect.bisect_right([[2, 5], [6, 8], [9, 13]], 7, key=lambda x: x[1]) # [[0, 1], [2,5]]\n",
    "j"
   ]
  },
  {
   "cell_type": "code",
   "execution_count": 17,
   "metadata": {},
   "outputs": [
    {
     "name": "stdout",
     "output_type": "stream",
     "text": [
      "0\n",
      "0\n",
      "1\n",
      "2\n",
      "4\n",
      "5\n",
      "6\n"
     ]
    }
   ],
   "source": [
    "\n",
    "xs = [0,1,2,3,4,5,6]\n",
    "for x in xs:\n",
    "    print(bisect.bisect_left([1,2,3,3,4,5], x)) #左边都是小于x的数\n"
   ]
  },
  {
   "cell_type": "code",
   "execution_count": 18,
   "metadata": {},
   "outputs": [
    {
     "name": "stdout",
     "output_type": "stream",
     "text": [
      "0\n",
      "1\n",
      "2\n",
      "4\n",
      "5\n",
      "6\n",
      "6\n"
     ]
    }
   ],
   "source": [
    "xs = [0,1,2,3,4,5,6]\n",
    "for x in xs:\n",
    "    print(bisect.bisect_right([1,2,3,3,4,5], x)) #右边的都是大于x的元素=左边都是小于等于x的元素\n",
    "    \n"
   ]
  }
 ],
 "metadata": {
  "kernelspec": {
   "display_name": "py310",
   "language": "python",
   "name": "python3"
  },
  "language_info": {
   "codemirror_mode": {
    "name": "ipython",
    "version": 3
   },
   "file_extension": ".py",
   "mimetype": "text/x-python",
   "name": "python",
   "nbconvert_exporter": "python",
   "pygments_lexer": "ipython3",
   "version": "3.10.13"
  }
 },
 "nbformat": 4,
 "nbformat_minor": 2
}
