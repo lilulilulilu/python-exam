{
 "cells": [
  {
   "cell_type": "code",
   "execution_count": null,
   "metadata": {},
   "outputs": [],
   "source": [
    "def partition(nums, start, end) -> int:\n",
    "    pivot = nums[start]\n",
    "    i = start\n",
    "    j = end\n",
    "    while i < j:\n",
    "        while i < j:\n",
    "            if nums[j] < pivot:\n",
    "                nums[i], nums[j] = nums[j], nums[i]\n",
    "                break\n",
    "            j = j - 1\n",
    "            \n",
    "        while i < j:\n",
    "            if nums[i] > pivot:\n",
    "                nums[i], nums[j] = nums[j], nums[i]\n",
    "                break\n",
    "            i = i + 1 \n",
    "        print(nums)\n",
    "        \n",
    "    nums[i] = pivot\n",
    "    return i\n",
    "    \n",
    "    \n",
    "numd = [3, 2, 1, 5, 6, 4]\n",
    "\n",
    "print(partition(numd, 0, len(numd) - 1))"
   ]
  },
  {
   "cell_type": "code",
   "execution_count": null,
   "metadata": {},
   "outputs": [],
   "source": [
    "nums = [1,2,3,4,5,6]\n",
    "\n",
    "print(nums)\n",
    "print(nums[1:3])\n",
    "print(nums[1:-11])\n"
   ]
  },
  {
   "cell_type": "code",
   "execution_count": null,
   "metadata": {},
   "outputs": [],
   "source": [
    "del nums"
   ]
  },
  {
   "cell_type": "code",
   "execution_count": null,
   "metadata": {},
   "outputs": [],
   "source": [
    "5//2"
   ]
  },
  {
   "cell_type": "code",
   "execution_count": null,
   "metadata": {},
   "outputs": [],
   "source": [
    "for k in range(10):\n",
    "    print(k)\n",
    "    \n",
    "for k in range(10, 0, -1):\n",
    "    print(k) # 10, 9, 8, 7, 6, 5, 4, 3, 2, 1\n",
    "       \n"
   ]
  },
  {
   "cell_type": "code",
   "execution_count": 4,
   "metadata": {},
   "outputs": [
    {
     "data": {
      "text/plain": [
       "82"
      ]
     },
     "execution_count": 4,
     "metadata": {},
     "output_type": "execute_result"
    }
   ],
   "source": [
    "def next_num(n: int) -> int:\n",
    "    s = 0\n",
    "    for c in str(n):\n",
    "        c_int = ord(c) - ord('0')\n",
    "        s = s + c_int * c_int\n",
    "    return s\n",
    "next_num(19)"
   ]
  },
  {
   "cell_type": "code",
   "execution_count": null,
   "metadata": {},
   "outputs": [],
   "source": [
    "\"(1 + 2 + 3 +4 )\""
   ]
  },
  {
   "cell_type": "code",
   "execution_count": 7,
   "metadata": {},
   "outputs": [
    {
     "data": {
      "text/plain": [
       "'45'"
      ]
     },
     "execution_count": 7,
     "metadata": {},
     "output_type": "execute_result"
    }
   ],
   "source": [
    "\"123\"\n",
    "a = int(\"123\")\n",
    "a \n",
    "\n",
    "a = int(\"111\")\n",
    "str(45)"
   ]
  }
 ],
 "metadata": {
  "kernelspec": {
   "display_name": "py310",
   "language": "python",
   "name": "python3"
  },
  "language_info": {
   "codemirror_mode": {
    "name": "ipython",
    "version": 3
   },
   "file_extension": ".py",
   "mimetype": "text/x-python",
   "name": "python",
   "nbconvert_exporter": "python",
   "pygments_lexer": "ipython3",
   "version": "3.10.13"
  }
 },
 "nbformat": 4,
 "nbformat_minor": 2
}
