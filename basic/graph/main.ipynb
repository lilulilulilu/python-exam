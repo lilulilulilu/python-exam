{
 "cells": [
  {
   "cell_type": "code",
   "execution_count": 1,
   "metadata": {},
   "outputs": [
    {
     "name": "stdout",
     "output_type": "stream",
     "text": [
      "{'A': {'B': {}, 'C': {}}, 'B': {'A': {}, 'D': {}, 'E': {}}, 'C': {'A': {}, 'F': {}}, 'D': {'B': {}}, 'E': {'B': {}, 'F': {}}, 'F': {'C': {}, 'E': {}}}\n"
     ]
    }
   ],
   "source": [
    "import networkx as nx\n",
    "\n",
    "G = nx.Graph()  # 创建一个无向图\n",
    "G.add_edge('A', 'B')\n",
    "G.add_edge('A', 'C')\n",
    "G.add_edge('B', 'D')\n",
    "G.add_edge('B', 'E')\n",
    "G.add_edge('C', 'F')\n",
    "G.add_edge('E', 'F')\n",
    "\n",
    "# 访问邻接列表\n",
    "print(G.adj)\n"
   ]
  },
  {
   "cell_type": "code",
   "execution_count": 4,
   "metadata": {},
   "outputs": [
    {
     "name": "stdout",
     "output_type": "stream",
     "text": [
      "1 {'2': 1}\n",
      "2 {'1': 1}\n"
     ]
    }
   ],
   "source": [
    "from collections import defaultdict\n",
    "weighted_graph = defaultdict(dict)\n",
    "weighted_graph['1']['2'] = 1 # 1->2, weight 1\n",
    "weighted_graph['2']['1'] = 1 # 2->1, weight 1\n",
    "for k, v in weighted_graph.items():\n",
    "    print(k, v)"
   ]
  }
 ],
 "metadata": {
  "kernelspec": {
   "display_name": "py310",
   "language": "python",
   "name": "python3"
  },
  "language_info": {
   "codemirror_mode": {
    "name": "ipython",
    "version": 3
   },
   "file_extension": ".py",
   "mimetype": "text/x-python",
   "name": "python",
   "nbconvert_exporter": "python",
   "pygments_lexer": "ipython3",
   "version": "3.10.13"
  }
 },
 "nbformat": 4,
 "nbformat_minor": 2
}
