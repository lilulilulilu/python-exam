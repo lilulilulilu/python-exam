{
 "cells": [
  {
   "cell_type": "code",
   "execution_count": 4,
   "metadata": {},
   "outputs": [
    {
     "data": {
      "text/plain": [
       "['A', 'C', 'B', 'D']"
      ]
     },
     "execution_count": 4,
     "metadata": {},
     "output_type": "execute_result"
    }
   ],
   "source": [
    "def possible_order(jobs: dict) -> list[str]:\n",
    "    orders = []\n",
    "    jobs_num = len(jobs)\n",
    "    while len(orders) < jobs_num:\n",
    "        for k, v in jobs.items():\n",
    "            if len(v) == 0 and k not in orders:\n",
    "                orders.append(k)\n",
    "            else:\n",
    "                for e in orders:\n",
    "                    if e in v:\n",
    "                        v.remove(e)\n",
    "    \n",
    "    return orders\n",
    "    \n",
    "    \n",
    "jobs = {\n",
    "        \"A\": [],\n",
    "        \"B\": [\"A\", \"C\"],\n",
    "        \"C\": [],\n",
    "        \"D\": [\"B\"]\n",
    "}\n",
    "\n",
    "possible_order(jobs)"
   ]
  },
  {
   "cell_type": "code",
   "execution_count": 6,
   "metadata": {},
   "outputs": [
    {
     "name": "stdout",
     "output_type": "stream",
     "text": [
      "['A', 'C', 'B', 'D']\n"
     ]
    }
   ],
   "source": [
    "from collections import deque, defaultdict\n",
    "\n",
    "def possible_order(jobs: dict) -> list[str]:\n",
    "    # 构建图和入度表\n",
    "    graph = defaultdict(list)\n",
    "    in_degree = defaultdict(int)\n",
    "    \n",
    "    # 初始化图和入度表\n",
    "    for job, pre_jobs in jobs.items():\n",
    "        for pre_job in pre_jobs:\n",
    "            graph[pre_job].append(job)\n",
    "            in_degree[job] += 1\n",
    "\n",
    "    # 找到所有入度为0的节点，即可以立即执行的任务\n",
    "    queue = deque([job for job in jobs if in_degree[job] == 0])\n",
    "    order = []\n",
    "\n",
    "    # 拓扑排序主循环\n",
    "    while queue:\n",
    "        job = queue.popleft()\n",
    "        order.append(job)\n",
    "        \n",
    "        # 以dfs方式对当前节点的所有邻接节点，减少入度，并检查是否可以加入队列\n",
    "        for neighbor in graph[job]:\n",
    "            in_degree[neighbor] -= 1\n",
    "            if in_degree[neighbor] == 0:\n",
    "                queue.append(neighbor)\n",
    "\n",
    "    # 如果排序后的任务数不等于总任务数，说明存在环，无法完成排序\n",
    "    if len(order) != len(jobs):\n",
    "        return []  # 可以返回一个错误信息或空列表表示无法完成排序\n",
    "    \n",
    "    return order\n",
    "\n",
    "# 示例使用\n",
    "jobs = {\n",
    "    \"A\": [],\n",
    "    \"B\": [\"A\", \"C\"],\n",
    "    \"C\": [],\n",
    "    \"D\": [\"B\"]\n",
    "}\n",
    "\n",
    "print(possible_order(jobs))\n"
   ]
  },
  {
   "cell_type": "code",
   "execution_count": 14,
   "metadata": {},
   "outputs": [
    {
     "name": "stdout",
     "output_type": "stream",
     "text": [
      "defaultdict(<class 'list'>, {'4': [5]})\n"
     ]
    }
   ],
   "source": [
    "d1 = {}\n",
    "if 'k' not in d1:\n",
    "    d1['k'] = []\n",
    "d1['k'].append(5) \n",
    "\n",
    "d2 = defaultdict(list)\n",
    "d2['k'].append(5) \n",
    "\n",
    "\n",
    "\n",
    "\n"
   ]
  },
  {
   "cell_type": "code",
   "execution_count": 16,
   "metadata": {},
   "outputs": [
    {
     "name": "stdout",
     "output_type": "stream",
     "text": [
      "1\n"
     ]
    }
   ],
   "source": [
    "q = deque()\n",
    "q.append(1)\n",
    "\n",
    "print(q.popleft())"
   ]
  },
  {
   "cell_type": "code",
   "execution_count": null,
   "metadata": {},
   "outputs": [],
   "source": []
  },
  {
   "cell_type": "code",
   "execution_count": 5,
   "metadata": {},
   "outputs": [
    {
     "data": {
      "text/plain": [
       "['A', 'B', 'C', 'D']"
      ]
     },
     "execution_count": 5,
     "metadata": {},
     "output_type": "execute_result"
    }
   ],
   "source": [
    "def possible_order(jobs: dict) -> list[str]:\n",
    "    orders = []\n",
    "    jobs_num = len(jobs)\n",
    "    visited = {k: False for k in jobs.keys()}\n",
    "    \n",
    "    # if not visited, add to orders and mark as visited, util all jobs are visited\n",
    "    while len(orders) < jobs_num:\n",
    "        for k, v in jobs.items():\n",
    "            if visited[k] is False:\n",
    "                orders.append(k)\n",
    "                visited[k] = True\n",
    "                \n",
    "                             \n",
    "    return orders\n",
    "\n",
    "    \n",
    "jobs = {\n",
    "        \"A\": [],\n",
    "        \"B\": [\"A\", \"C\"],\n",
    "        \"C\": [],\n",
    "        \"D\": [\"B\"]\n",
    "}\n",
    "\n",
    "possible_order(jobs)"
   ]
  },
  {
   "cell_type": "code",
   "execution_count": null,
   "metadata": {},
   "outputs": [],
   "source": [
    "g = "
   ]
  }
 ],
 "metadata": {
  "kernelspec": {
   "display_name": "py310",
   "language": "python",
   "name": "python3"
  },
  "language_info": {
   "codemirror_mode": {
    "name": "ipython",
    "version": 3
   },
   "file_extension": ".py",
   "mimetype": "text/x-python",
   "name": "python",
   "nbconvert_exporter": "python",
   "pygments_lexer": "ipython3",
   "version": "3.10.13"
  }
 },
 "nbformat": 4,
 "nbformat_minor": 2
}
