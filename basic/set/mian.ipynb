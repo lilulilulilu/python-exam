{
 "cells": [
  {
   "cell_type": "code",
   "execution_count": 8,
   "metadata": {},
   "outputs": [
    {
     "name": "stdout",
     "output_type": "stream",
     "text": [
      "{1, 2, 3, 4}\n",
      "{1, 2, 3}\n",
      "{1, 2, 3, 4, 5, 6}\n",
      "s2: {1, 2, 3, 4, 5, 6, 7, 8, 9}\n",
      "s: {1, 2, 3, 4, 5, 6}\n",
      "s3: {4, 5, 6}\n",
      "s4: {1, 2, 3}\n",
      "s5: {2, 3, 4, 5, 6}\n",
      "{1, 2, 3, 4, 5, 6}\n"
     ]
    }
   ],
   "source": [
    "s = set()\n",
    "s.add(1)\n",
    "s.add(2)\n",
    "s.add(4)\n",
    "s.add(3)\n",
    "print(s) # {1, 2, 3, 4}\n",
    "\n",
    "\n",
    "s.remove(4) #时间复杂度为O(1)\n",
    "print(s) # {1, 2, 3}\n",
    "\n",
    "s.update([4, 5, 6])\n",
    "print(s) # {1, 2, 3, 4, 5, 6}\n",
    "\n",
    "s2 = s.union([6, 7, 8, 9]) # 求并集，但不改变原集合\n",
    "print(\"s2:\", s2)\n",
    "print(\"s:\", s) # {1, 2, 3, 4, 5, 6}\n",
    "\n",
    "s3 = s.intersection([4, 5, 6, 7]) # 求交集，但不改变原集合\n",
    "print(\"s3:\", s3) # {4, 5, 6}\n",
    "\n",
    "s4 = s.difference([4, 5, 6, 7]) # 求差集，但不改变原集合\n",
    "print(\"s4:\", s4) # {1, 2, 3}\n",
    "\n",
    "s5 = s.copy() # 复制一个集合\n",
    "s5.remove(1)\n",
    "print(\"s5:\", s5) # {2, 3, 4, 5, 6}\n",
    "print(s) # {1, 2, 3, 4, 5, 6}"
   ]
  },
  {
   "cell_type": "code",
   "execution_count": 1,
   "metadata": {},
   "outputs": [
    {
     "data": {
      "text/plain": [
       "1"
      ]
     },
     "execution_count": 1,
     "metadata": {},
     "output_type": "execute_result"
    }
   ],
   "source": [
    "s = set()\n",
    "l1 = [1,2]\n",
    "l2 = [1,2]\n",
    "s.add(tuple(l1))\n",
    "s.add(tuple(l2))\n",
    "len(s)"
   ]
  },
  {
   "cell_type": "code",
   "execution_count": 13,
   "metadata": {},
   "outputs": [
    {
     "name": "stdout",
     "output_type": "stream",
     "text": [
      "s1 == s2\n"
     ]
    }
   ],
   "source": [
    "\n",
    "def sorted_str(s: str) -> float:\n",
    "    return \"\".join(sorted(s, key=lambda x:ord(x)))\n",
    "s1 = \"abc\"\n",
    "s2 = \"bac\"\n",
    "\n",
    "s3 = sorted_str(s1)\n",
    "s4 = sorted_str(s2)\n",
    "if s3 == s4:\n",
    "    print(\"s1 == s2\")\n",
    "    "
   ]
  },
  {
   "cell_type": "code",
   "execution_count": 14,
   "metadata": {},
   "outputs": [
    {
     "data": {
      "text/plain": [
       "'ac'"
      ]
     },
     "execution_count": 14,
     "metadata": {},
     "output_type": "execute_result"
    }
   ],
   "source": [
    "#从字符串中删掉一个字符串\n",
    "s = \"abc\"\n",
    "s = s.replace(\"b\", \"\")\n",
    "s"
   ]
  },
  {
   "cell_type": "code",
   "execution_count": 17,
   "metadata": {},
   "outputs": [
    {
     "data": {
      "text/plain": [
       "['ac', 'd']"
      ]
     },
     "execution_count": 17,
     "metadata": {},
     "output_type": "execute_result"
    }
   ],
   "source": [
    "def simple(equation: list[str]) -> list[str]:\n",
    "    x1, x2 = equation\n",
    "    for c in x1:\n",
    "        if c in x2:\n",
    "            x1 = x1.replace(c, \"\")\n",
    "            x2 = x2.replace(c, \"\")\n",
    "    if x1 == \"\":\n",
    "        x1 = \"1\"\n",
    "    if x2 == \"\":\n",
    "        x2 = \"1\"\n",
    "    return [x1, x2]\n",
    "simple([\"abc\", \"bd\"])"
   ]
  },
  {
   "cell_type": "code",
   "execution_count": 19,
   "metadata": {},
   "outputs": [
    {
     "data": {
      "text/plain": [
       "'[1, [3], 2, 3]'"
      ]
     },
     "execution_count": 19,
     "metadata": {},
     "output_type": "execute_result"
    }
   ],
   "source": [
    "str([1,[3],2,3])"
   ]
  },
  {
   "cell_type": "code",
   "execution_count": 22,
   "metadata": {},
   "outputs": [
    {
     "data": {
      "text/plain": [
       "{'a', 'b', 'c'}"
      ]
     },
     "execution_count": 22,
     "metadata": {},
     "output_type": "execute_result"
    }
   ],
   "source": [
    "#有一个字符串，将里面所有的小写字符提取到一个列表中\n",
    "def extract_lower(s: str) -> list[str]:\n",
    "    return {c for c in s if c.islower()}\n",
    "extract_lower(\"abcD\")\n"
   ]
  },
  {
   "cell_type": "code",
   "execution_count": 4,
   "metadata": {},
   "outputs": [
    {
     "data": {
      "text/plain": [
       "0.5"
      ]
     },
     "execution_count": 4,
     "metadata": {},
     "output_type": "execute_result"
    }
   ],
   "source": [
    "1/2"
   ]
  },
  {
   "cell_type": "code",
   "execution_count": 3,
   "metadata": {},
   "outputs": [
    {
     "name": "stdout",
     "output_type": "stream",
     "text": [
      "{2, 3}\n",
      "{1, 4}\n"
     ]
    }
   ],
   "source": [
    "A = {1, 2, 3}\n",
    "B = {2, 3, 4}\n",
    "# A,B 中相同元素： \n",
    "print(A&B) # output: {2, 3}\n",
    "# A,B 中不同元素:  \n",
    "print(A^B) # output: {1, 4}"
   ]
  }
 ],
 "metadata": {
  "kernelspec": {
   "display_name": "py310",
   "language": "python",
   "name": "python3"
  },
  "language_info": {
   "codemirror_mode": {
    "name": "ipython",
    "version": 3
   },
   "file_extension": ".py",
   "mimetype": "text/x-python",
   "name": "python",
   "nbconvert_exporter": "python",
   "pygments_lexer": "ipython3",
   "version": "3.10.13"
  }
 },
 "nbformat": 4,
 "nbformat_minor": 2
}
