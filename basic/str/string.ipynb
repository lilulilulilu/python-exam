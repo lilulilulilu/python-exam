{
 "cells": [
  {
   "cell_type": "code",
   "execution_count": null,
   "metadata": {},
   "outputs": [],
   "source": [
    "s = \"abcdcecfgh\"\n",
    "\n",
    "'''\n",
    "index 和 find 都是 Python 中用于查找子字符串的方法，但它们处理查找不到子字符串的情况不同。\n",
    "str.index(sub) 方法在字符串中查找子字符串 sub，如果找到，返回子字符串的第一个字符在字符串中的索引；如果找不到，会抛出一个 ValueError 异常。\n",
    "str.find(sub) 方法也是在字符串中查找子字符串 sub，如果找到，返回子字符串的第一个字符在字符串中的索引；但如果找不到，不会抛出异常，而是返回 -1。\n",
    "所以，当你确定子字符串一定存在于字符串中时，可以使用 index 方法；如果不确定，为了避免程序因为抛出异常而中断，应该使用 find 方法。'''\n",
    "# str operations example:\n",
    "print(s.index(\"c\")) # 2 , return the first occurence index of \"c\"，\n",
    "print(s.find(\"c\")) # 2 找到返回第一个c的位置，找不到返回-1\n",
    "print(s.count(\"c\")) # 3,计算c出现的次数\n",
    "print(s.replace(\"c\", \"C\")) # abCdCefgh\n",
    "print(s.isdigit()) # False\n",
    "print(\"45\".isdigit()) # True\n",
    "print(s.isalpha()) # True\n",
    "print(s.islower()) # True\n",
    "print(s.isupper()) # False\n",
    "print(s.isspace()) # False\n",
    "print(s.upper()) # ABCDCEFGH\n",
    "print(s.lower()) # abcdcefgh\n",
    "print(s.startswith(\"ab\")) # True\n",
    "print(s.endswith(\"gh\")) # True\n",
    "print(s.split(\"c\")) # ['ab', 'd', 'efgh']\n",
    "print(s.split(\"c\", 1)) # ['ab', 'dcefgh']\n",
    "print(s.strip(\"gh\")) # abcdcef\n",
    "print(s.lstrip(\"ab\")) # cdcefgh\n",
    "print(s.rstrip(\"gh\")) # abcdcef\n",
    "print(s.join([\"1\", \"2\", \"3\"])) # 1abcdcefgh2abcdcefgh3\n",
    "print(s.partition(\"c\")) # ('ab', 'c', 'dcefgh'),partition by first occurence, return tuple\n",
    "print(s.rpartition(\"c\")) # ('abcd', 'c', 'efgh'),partition by last occurence, return tuple\n",
    "print(s.rfind(\"c\")) # 2\n",
    "print(s.rindex(\"c\")) # 2\n",
    "print(s.startswith(\"ab\")) # True\n",
    "print(s.endswith(\"gh\")) # True\n",
    "print(s.isalnum()) # True, isalnum() is equivalent to isalpha() or isdigit()\n",
    "print(s.isnumeric()) # False\n",
    "print(s.isdecimal()) # False\n",
    "print(s.isidentifier()) # True, isidentifier() is equivalent to isalnum() or startswith('_')\n",
    "print(s[::-1])\n",
    "\n"
   ]
  },
  {
   "cell_type": "code",
   "execution_count": null,
   "metadata": {},
   "outputs": [],
   "source": [
    "a = \" a good   example\".split(\" \")\n",
    "#去掉空字符串\n",
    "arr = [item for item in a if item != \"\"]\n",
    "reversed_arr = list(reversed(arr))"
   ]
  },
  {
   "cell_type": "code",
   "execution_count": 4,
   "metadata": {},
   "outputs": [
    {
     "data": {
      "text/plain": [
       "['a', 'b', 'e']"
      ]
     },
     "execution_count": 4,
     "metadata": {},
     "output_type": "execute_result"
    }
   ],
   "source": [
    "\n",
    "s= \" a b  e  \"\n",
    "s_arr = s.split() # ['a', 'b', 'e']， split by space\n",
    "s_arr"
   ]
  },
  {
   "cell_type": "code",
   "execution_count": null,
   "metadata": {},
   "outputs": [],
   "source": [
    "def str_to_int(s):\n",
    "    num = 0\n",
    "    for v in s:\n",
    "        num = num * 10 + ord(v) - ord('0')\n",
    "    return num\n",
    "\n",
    "\n",
    "a = str_to_int(\"123\")\n",
    "a += 1\n",
    "print(a)\n",
    "print(\"1\"+\"2\")\n"
   ]
  },
  {
   "cell_type": "code",
   "execution_count": null,
   "metadata": {},
   "outputs": [],
   "source": [
    "\"12.3\".isdigit() # False\n",
    "print(\"12.3\".isnumeric()) # False\n",
    "\n",
    "# digits, numbers, and decimals \n",
    "\"123\".isdigit() # True\n",
    "\"123\".isnumeric() # True\n",
    "\"123\".isdecimal() # True\n",
    "\"12.3\".index(\".\") # 2\n"
   ]
  },
  {
   "cell_type": "code",
   "execution_count": null,
   "metadata": {},
   "outputs": [],
   "source": [
    "\"abcdef\"[::-7] \n",
    "# 在 Python 中，字符串 \"abcdef\" 的 [::-7] 是使用 slice 操作来索引字符串。\n",
    "# Slice 的语法是 [start:stop:step]，其中 start 是切片开始的位置，stop 是切片结束的位置（但不包括这个位置），而 step 是步长，决定了选择元素的间隔。\n"
   ]
  },
  {
   "cell_type": "code",
   "execution_count": null,
   "metadata": {},
   "outputs": [],
   "source": []
  },
  {
   "cell_type": "code",
   "execution_count": 5,
   "metadata": {},
   "outputs": [
    {
     "name": "stdout",
     "output_type": "stream",
     "text": [
      "['1', '2', '3']\n",
      "['1', '2', '3']\n",
      "<map object at 0x7f93a869aa10>\n"
     ]
    }
   ],
   "source": [
    "l1 = [\"1\", \"2\", \"3\"]\n",
    "\"abc\".join(l1) # '1abc2abc3'\n",
    "\n",
    "l1 = [1, 2, 3]\n",
    "l2 = [str(x) for x in l1]  # list comprehension\n",
    "print(l2) # ['1', '2', '3']\n",
    "\n",
    "l2 = list(map(str, l1))\n",
    "print(l2) # ['1', '2', '3']\n",
    "\n",
    "l2 = map(lambda x: str(x), l1)\n",
    "print(l2) # <map object at 0x7f8b1c1b3d30>\n"
   ]
  },
  {
   "cell_type": "code",
   "execution_count": null,
   "metadata": {},
   "outputs": [],
   "source": [
    "def lastchar(s):\n",
    "    return s[-1]\n",
    "\n",
    "s1 = ['abc','b','AAz','ef']\n",
    "\n",
    "sorted(s1, key = lastchar, reverse=True)"
   ]
  },
  {
   "cell_type": "code",
   "execution_count": null,
   "metadata": {},
   "outputs": [],
   "source": [
    "\"123.45\".replace(\".\", \"\", 1).isdigit() # True\n",
    "\n",
    "def isFloat(s):\n",
    "    if s.count(\".\") < 1:\n",
    "        return False\n",
    "    return s.replace(\".\", \"\", 1).isdigit()\n",
    "\n",
    "isFloat(\"12.3\") # True\n",
    "isFloat(\"12.3.4\") # False\n",
    "isFloat(\"12\") # False\n",
    "\n",
    "# 计算字节大小\n",
    "from sys import getsizeof as sizeof\n",
    "print(sizeof(12.)) # 24\n",
    "print(sizeof(12)) # 28\n",
    "# 12. 是浮点数，占用 24 字节，而 12 是整数，占用 28 字节。\n"
   ]
  },
  {
   "cell_type": "code",
   "execution_count": null,
   "metadata": {},
   "outputs": [],
   "source": [
    "p = '//aa/b/c/' \n",
    "parts = p.split('/')  # ['', '', 'aa', 'b', 'c', '']\n",
    "print([part for part in parts if part != '']) # ['aa', 'b', 'c']\n",
    "print(list(filter(lambda x: x != '', parts))) # ['aa', 'b', 'c']\n",
    "print(list(map(lambda x: x != '', parts))) # [False, False, True, True, True, False]"
   ]
  },
  {
   "cell_type": "code",
   "execution_count": 4,
   "metadata": {},
   "outputs": [
    {
     "name": "stdout",
     "output_type": "stream",
     "text": [
      "True\n",
      "False\n",
      "-1\n",
      "1\n"
     ]
    }
   ],
   "source": [
    "print('c' in \"abc\") # True\n",
    "print('b' in 'aaa') # False\n",
    "\n",
    "print(\"abc\".find('e')) # -1\n",
    "print(\"abc\".find('b')) # 1"
   ]
  },
  {
   "cell_type": "code",
   "execution_count": null,
   "metadata": {},
   "outputs": [],
   "source": [
    "# slice into two parts\n",
    "\n",
    "\"abcdefghdehsdsgdes\".find(\"de\")\n"
   ]
  },
  {
   "cell_type": "code",
   "execution_count": null,
   "metadata": {},
   "outputs": [],
   "source": [
    "# 打印数组元素的排列组合\n",
    "from itertools import permutations\n",
    "arr = [1, 2, 3]\n",
    "for p in permutations(arr):\n",
    "    print(p)\n",
    "    "
   ]
  },
  {
   "cell_type": "code",
   "execution_count": 3,
   "metadata": {},
   "outputs": [
    {
     "data": {
      "text/plain": [
       "''"
      ]
     },
     "execution_count": 3,
     "metadata": {},
     "output_type": "execute_result"
    }
   ],
   "source": [
    "s = \"abca\"\n",
    "s[1:1] # ''"
   ]
  }
 ],
 "metadata": {
  "kernelspec": {
   "display_name": "py310",
   "language": "python",
   "name": "python3"
  },
  "language_info": {
   "codemirror_mode": {
    "name": "ipython",
    "version": 3
   },
   "file_extension": ".py",
   "mimetype": "text/x-python",
   "name": "python",
   "nbconvert_exporter": "python",
   "pygments_lexer": "ipython3",
   "version": "3.10.13"
  }
 },
 "nbformat": 4,
 "nbformat_minor": 2
}
