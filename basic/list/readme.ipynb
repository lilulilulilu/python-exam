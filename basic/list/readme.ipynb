{
 "cells": [
  {
   "cell_type": "code",
   "execution_count": null,
   "metadata": {},
   "outputs": [],
   "source": [
    "# 1.array\n",
    "# 1.1 create\n",
    "arr = ['a', 'b']\n",
    "arr"
   ]
  },
  {
   "cell_type": "code",
   "execution_count": null,
   "metadata": {},
   "outputs": [],
   "source": [
    "# 1.2 add\n",
    "arr.append('a') # add a element, O(1)\n",
    "arr.extend(['b', 'c'])\n",
    "arr.insert(1, 'e')\n",
    "arr"
   ]
  },
  {
   "cell_type": "code",
   "execution_count": null,
   "metadata": {},
   "outputs": [],
   "source": [
    "# 1.3 delete\n",
    "e1 = arr.pop()   # pop the end of the element, O(1)\n",
    "e = arr.pop(1)   # pop the element whose index is 1，O(n)\n",
    "arr.remove('a') # remove 'a', O(n)\n",
    "e1, e, arr"
   ]
  },
  {
   "cell_type": "code",
   "execution_count": null,
   "metadata": {},
   "outputs": [],
   "source": [
    "# 1.4 update\n",
    "arr[0] = 'a' # update the element whose index is 0\n",
    "arr.sort()\n",
    "arr.reverse()\n",
    "arr.sort(reverse=True)\n",
    "arr"
   ]
  },
  {
   "cell_type": "code",
   "execution_count": null,
   "metadata": {},
   "outputs": [],
   "source": [
    "# 1.5 traverse\n",
    "# 1.with index and value\n",
    "for i, val in enumerate(arr):\n",
    "   print(i, val)\n",
    "\n",
    "# 2.using index\n",
    "for i in range(len(arr)):\n",
    "   print(i, arr[i])\n",
    "\n",
    "for i in range(len(arr)-1, -1, -1):\n",
    "   print(i, arr[i])\n",
    "\n",
    "# 3.without index\n",
    "for n in arr:\n",
    " print(n)\n",
    "\n",
    "# 4.traverse from both ends to center\n",
    "i, j = 0, len(arr) -1\n",
    "while i < j:\n",
    "   print(arr[i], arr[j])\n",
    "   i += 1\n",
    "   j -= 1"
   ]
  },
  {
   "cell_type": "code",
   "execution_count": null,
   "metadata": {},
   "outputs": [],
   "source": [
    "# 1.6 sort\n",
    "new_arr = sorted(arr, key=lambda x: len(x), reverse=True)\n",
    "arr.sort(key=lambda x: len(x), reverse=True)"
   ]
  },
  {
   "cell_type": "code",
   "execution_count": null,
   "metadata": {},
   "outputs": [],
   "source": [
    "new_arr[0] = 'a'\n",
    "new_arr, arr"
   ]
  },
  {
   "cell_type": "code",
   "execution_count": 13,
   "metadata": {},
   "outputs": [
    {
     "name": "stdout",
     "output_type": "stream",
     "text": [
      "3\n",
      "3\n",
      "3\n",
      "3\n"
     ]
    }
   ],
   "source": [
    "for i in range(4):\n",
    "    i = 3\n",
    "    print(i)"
   ]
  },
  {
   "cell_type": "code",
   "execution_count": 14,
   "metadata": {},
   "outputs": [
    {
     "data": {
      "text/plain": [
       "True"
      ]
     },
     "execution_count": 14,
     "metadata": {},
     "output_type": "execute_result"
    }
   ],
   "source": [
    "g = \"abc\"\n",
    "g2 = \"abc\"\n",
    "\n",
    "g == g2"
   ]
  },
  {
   "cell_type": "code",
   "execution_count": 17,
   "metadata": {},
   "outputs": [
    {
     "data": {
      "text/plain": [
       "(680, 64)"
      ]
     },
     "execution_count": 17,
     "metadata": {},
     "output_type": "execute_result"
    }
   ],
   "source": [
    "import sys\n",
    "\n",
    "# Initial variables\n",
    "arr = [None] * 26\n",
    "d = {}\n",
    "\n",
    "# Calculate memory usage\n",
    "arr_size = sys.getsizeof(arr) + sum(sys.getsizeof(item) for item in arr)\n",
    "d_size = sys.getsizeof(d) + sum(sys.getsizeof(key) + sys.getsizeof(value) for key, value in d.items())\n",
    "\n",
    "(arr_size, d_size)\n"
   ]
  },
  {
   "cell_type": "code",
   "execution_count": 19,
   "metadata": {},
   "outputs": [
    {
     "data": {
      "text/plain": [
       "False"
      ]
     },
     "execution_count": 19,
     "metadata": {},
     "output_type": "execute_result"
    }
   ],
   "source": [
    "any([True, False, True])\n",
    "\n",
    "any([False, False, False])"
   ]
  },
  {
   "cell_type": "code",
   "execution_count": 20,
   "metadata": {},
   "outputs": [
    {
     "data": {
      "text/plain": [
       "False"
      ]
     },
     "execution_count": 20,
     "metadata": {},
     "output_type": "execute_result"
    }
   ],
   "source": [
    "all([True, False, True])"
   ]
  },
  {
   "cell_type": "code",
   "execution_count": 21,
   "metadata": {},
   "outputs": [
    {
     "name": "stdout",
     "output_type": "stream",
     "text": [
      "0 a\n",
      "1 b\n",
      "2 c\n"
     ]
    }
   ],
   "source": [
    "for i, c in enumerate(['a', 'b', 'c']):\n",
    "    print(i, c)"
   ]
  },
  {
   "cell_type": "code",
   "execution_count": 23,
   "metadata": {},
   "outputs": [
    {
     "data": {
      "text/plain": [
       "True"
      ]
     },
     "execution_count": 23,
     "metadata": {},
     "output_type": "execute_result"
    }
   ],
   "source": [
    "s = set()\n",
    "s.add((1, 2))\n",
    "(1,2) in s"
   ]
  }
 ],
 "metadata": {
  "kernelspec": {
   "display_name": "py310",
   "language": "python",
   "name": "python3"
  },
  "language_info": {
   "codemirror_mode": {
    "name": "ipython",
    "version": 3
   },
   "file_extension": ".py",
   "mimetype": "text/x-python",
   "name": "python",
   "nbconvert_exporter": "python",
   "pygments_lexer": "ipython3",
   "version": "3.10.13"
  }
 },
 "nbformat": 4,
 "nbformat_minor": 2
}
