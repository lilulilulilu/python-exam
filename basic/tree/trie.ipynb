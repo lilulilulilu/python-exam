{
 "cells": [
  {
   "cell_type": "code",
   "execution_count": 22,
   "metadata": {},
   "outputs": [
    {
     "name": "stdout",
     "output_type": "stream",
     "text": [
      "{\n",
      "  \"w\": {\n",
      "    \"o\": {\n",
      "      \"r\": {\n",
      "        \"d\": {\n",
      "          \"#\": {}\n",
      "        }\n",
      "      }\n",
      "    },\n",
      "    \"a\": {\n",
      "      \"r\": {\n",
      "        \"#\": {}\n",
      "      },\n",
      "      \"s\": {\n",
      "        \"#\": {}\n",
      "      }\n",
      "    }\n",
      "  }\n",
      "}\n"
     ]
    }
   ],
   "source": [
    "import json\n",
    "from collections import defaultdict\n",
    "from functools import reduce\n",
    "# 定义一个递归函数来将 defaultdict 转换为普通字典\n",
    "def defaultdict_to_dict(d):\n",
    "    if isinstance(d, defaultdict):\n",
    "        d = {k: defaultdict_to_dict(v) for k, v in d.items()}\n",
    "    return d\n",
    "\n",
    "# 1.用 defaultdict 创建字典树\n",
    "Trie = lambda: defaultdict(Trie)\n",
    "trie = Trie()\n",
    "words = [\"word\", \"war\", \"was\"]\n",
    "for w in words: reduce(dict.__getitem__,w+'#',trie)  \n",
    "tree_dict = defaultdict_to_dict(trie)\n",
    "print(json.dumps(tree_dict, indent=2))"
   ]
  },
  {
   "cell_type": "code",
   "execution_count": 5,
   "metadata": {},
   "outputs": [
    {
     "name": "stdout",
     "output_type": "stream",
     "text": [
      "{\n",
      "  \"w\": {\n",
      "    \"o\": {\n",
      "      \"r\": {\n",
      "        \"d\": {\n",
      "          \"#\": \"#\"\n",
      "        }\n",
      "      }\n",
      "    },\n",
      "    \"a\": {\n",
      "      \"r\": {\n",
      "        \"#\": \"#\"\n",
      "      },\n",
      "      \"s\": {\n",
      "        \"#\": \"#\"\n",
      "      }\n",
      "    }\n",
      "  }\n",
      "}\n"
     ]
    }
   ],
   "source": [
    "import json\n",
    "from collections import defaultdict\n",
    "\n",
    "def insert(trie, word):\n",
    "    cur = trie\n",
    "    for c in word:\n",
    "        if c not in cur:\n",
    "            cur[c] = {}\n",
    "        cur = cur[c]\n",
    "    cur['#'] = '#'\n",
    "    \n",
    "def get_trie(words):\n",
    "    trie = {}\n",
    "    for w in words: \n",
    "        insert(trie, w)\n",
    "    return trie\n",
    "\n",
    "words = [\"word\", \"war\", \"was\"]\n",
    "print(json.dumps(get_trie(words), indent=2))"
   ]
  },
  {
   "cell_type": "code",
   "execution_count": 8,
   "metadata": {},
   "outputs": [
    {
     "data": {
      "text/plain": [
       "False"
      ]
     },
     "execution_count": 8,
     "metadata": {},
     "output_type": "execute_result"
    }
   ],
   "source": [
    "def search(trie, word):\n",
    "    t = trie # t指向trie树根这一层\n",
    "    for c in word:\n",
    "        if c not in t:\n",
    "            return False\n",
    "        t = t[c] # 指向子trie树\n",
    "    return '#' in t # 判断是否是单词结尾\n",
    "\n",
    "search(get_trie(words), 'word') # True\n",
    "search(get_trie(words), '33') # True\n",
    "search(get_trie(words), 'wor') # False, 因为wor的下一轮没有不是单词结尾\n"
   ]
  },
  {
   "cell_type": "code",
   "execution_count": 24,
   "metadata": {},
   "outputs": [
    {
     "name": "stdout",
     "output_type": "stream",
     "text": [
      "{\n",
      "  \"w\": {\n",
      "    \"o\": {\n",
      "      \"r\": {\n",
      "        \"d\": {\n",
      "          \"#\": {}\n",
      "        }\n",
      "      }\n",
      "    },\n",
      "    \"a\": {\n",
      "      \"r\": {\n",
      "        \"#\": {}\n",
      "      },\n",
      "      \"s\": {\n",
      "        \"#\": {}\n",
      "      }\n",
      "    }\n",
      "  }\n",
      "}\n"
     ]
    }
   ],
   "source": [
    "\n",
    "words = [\"word\", \"war\", \"was\"]\n",
    "trie = {}\n",
    "for w in words:\n",
    "    p = trie\n",
    "    for c in w+'#':\n",
    "        if c not in p:\n",
    "            d = {}\n",
    "            p[c] = d\n",
    "            p = d\n",
    "        else:\n",
    "            p = p[c]\n",
    "print(json.dumps(trie, indent=2))"
   ]
  },
  {
   "cell_type": "code",
   "execution_count": 26,
   "metadata": {},
   "outputs": [
    {
     "data": {
      "text/plain": [
       "{'w': {'o': {'r': {'d': {'#': {}}}}}}"
      ]
     },
     "execution_count": 26,
     "metadata": {},
     "output_type": "execute_result"
    }
   ],
   "source": [
    "d = {'w':{'o':{'r':{'d':{'#':{}}}},'a':{'r':{'#':{}},'s':{'#':{}}}}}\n",
    "d2 = d['w']\n",
    "del d2['a']\n",
    "d"
   ]
  }
 ],
 "metadata": {
  "kernelspec": {
   "display_name": "py310",
   "language": "python",
   "name": "python3"
  },
  "language_info": {
   "codemirror_mode": {
    "name": "ipython",
    "version": 3
   },
   "file_extension": ".py",
   "mimetype": "text/x-python",
   "name": "python",
   "nbconvert_exporter": "python",
   "pygments_lexer": "ipython3",
   "version": "3.10.13"
  }
 },
 "nbformat": 4,
 "nbformat_minor": 2
}
