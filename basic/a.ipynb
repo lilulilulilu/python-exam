{
 "cells": [
  {
   "cell_type": "markdown",
   "metadata": {},
   "source": [
    "# 1.集合"
   ]
  },
  {
   "cell_type": "code",
   "execution_count": null,
   "metadata": {},
   "outputs": [],
   "source": [
    "# set是一个无序的集合，它不记录元素的插入顺序。这意味着当你遍历或打印一个set时，元素的顺序可能与插入顺序不同。\n",
    "s = set()\n",
    "s.add(\"a\")\n",
    "\n",
    "s.remove('a') # 删除元素,时间复杂度O(1)\n",
    "s.discard('a') # 删除元素，如果元素不存在，不报错\n",
    "s.pop() #随机删除一个元素并将该元素返回\n",
    "# list没有union和update方法\n",
    "s.update(['a', 'b', 'c']) # 把列表中所有元素加入集合，原集合改变\n",
    "s.update({2,3}) # 把字典中所有key加入集合，原集合改变\n",
    "s2 = s.union(['d', 'e']) # 把列表中所有元素加入集合，返回一个新集合\n",
    "s2 = s.union({'d', 'e'}) # 把字典中所有key加入集合，返回一个新集合\n",
    "s3 = s2.copy()\n",
    "s2.clear() # 清空集合\n",
    "\n",
    "# 集合的运算\n",
    "s1 = {1, 2, 3}\n",
    "s2 = {2, 3, 4}\n",
    "s3 = s1 & s2 # 交集 {2, 3}\n",
    "s3 = s1 | s2 # 并集, {1, 2, 3, 4}\n",
    "s3 = s1 - s2 # 差集, {1}\n",
    "s3 = s1 ^ s2 # 对称差集,{1, 4}\n",
    "s3 = s1 <= s2 # 判断s1是否是s2的子集, False\n",
    "s3 = s1 >= s2 # 判断s1是否是s2的超集, False\n",
    "s3 = s1.isdisjoint(s2) # 判断两个集合是否没有交集, False: 有交集\n",
    "\n",
    "# 集合的遍历\n",
    "for i in s:\n",
    "    print(i)\n",
    "    \n",
    "# 集合推导式\n",
    "s = {i for i in range(10) if i % 2 == 0}\n",
    "print(s) # {0, 8, 2, 4, 6}\n",
    "\n",
    "# 集合的长度\n",
    "print(len(s)) # 5\n",
    "print(2 in s) # True\n",
    "print(2 not in s) # False\n"
   ]
  },
  {
   "cell_type": "markdown",
   "metadata": {},
   "source": [
    "# 2.列表，栈，小根堆，二维数组"
   ]
  },
  {
   "cell_type": "markdown",
   "metadata": {},
   "source": [
    "## 2.1 增删改查"
   ]
  },
  {
   "cell_type": "code",
   "execution_count": null,
   "metadata": {},
   "outputs": [],
   "source": [
    "# 增删改查\n",
    "l = []\n",
    "l.append('a')\n",
    "l.insert(1, 'b') # 在指定位置插入元素\n",
    "l.extend(['d', 'e']) # extend返回None，添加多个元素,时间复杂度O(k),原集合改变，等价于l += ['d', 'e']， \n",
    "l.extend({'d', 'e'}) # 添加多个元素,时间复杂度O(k),原集合改变\n",
    "\n",
    "l.remove('a') # 删除列表中第一次出现的value，时间复杂度O(n)\n",
    "e = l.pop()   # pop the end of the element, O(1)\n",
    "e = l.pop(1)   # pop the element whose index is 1，O(n)\n",
    "l.remove('a') # remove ‘a’, O(n)\n",
    "\n",
    "i = l.index('d') # 返回元素的索引\n",
    "l.pop() # 删除最后一个元素，in constant time\n",
    "l.sort() # 排序，原list改变\n",
    "l1 = sorted(l, key=lambda x: x, ) # 排序，返回一个新的list\n",
    "l.reverse() # 倒序，原list改变"
   ]
  },
  {
   "cell_type": "code",
   "execution_count": null,
   "metadata": {},
   "outputs": [],
   "source": [
    "l = [(4,'a'), (3,'b'), (2,'c'), (1,'d')]\n",
    "l.sort(key=lambda x: x[1]) # 按照元组的第二个元素排序\n",
    "l"
   ]
  },
  {
   "cell_type": "markdown",
   "metadata": {},
   "source": [
    "## 2.2 map， filter， reversed， reduce"
   ]
  },
  {
   "cell_type": "code",
   "execution_count": null,
   "metadata": {},
   "outputs": [],
   "source": [
    "# map\n",
    "map_it = map(lambda x: x * 2, [1, 2, 3]) # 返回一个迭代器，需要list()转换\n",
    "l2 = list(map_it) # [2, 4, 6]\n",
    "# filter\n",
    "filter_it = filter(lambda x: x > 0, [-1, 0, 1, 2]) # 返回一个迭代器，需要list()转换\n",
    "l3 = list(filter_it) # [1, 2]\n",
    "# reversed\n",
    "reversed_it = reversed([1, 2, 3]) # 返回一个迭代器，需要list()转换\n",
    "l4 = list(reversed_it) # [3, 2, 1]\n",
    "\n",
    "# reduce\n",
    "from functools import reduce\n",
    "reduce_it = reduce(lambda x, y: x + y, [1, 2, 3]) # 6\n",
    "result2 = reduce(sum, [1, 2, 3, 4], 10)  # 结果是 20"
   ]
  },
  {
   "cell_type": "code",
   "execution_count": 1,
   "metadata": {},
   "outputs": [
    {
     "data": {
      "text/plain": [
       "20"
      ]
     },
     "execution_count": 1,
     "metadata": {},
     "output_type": "execute_result"
    }
   ],
   "source": [
    "from functools import reduce\n",
    "add = lambda x, y: x + y\n",
    "subtract = lambda x, y: x - y\n",
    "multiply = lambda x, y: x * y\n",
    "divide = lambda x, y: x / y\n",
    "result2 = reduce(add, [1, 2, 3, 4], 10)  # 结果是 20\n",
    "result2"
   ]
  },
  {
   "cell_type": "markdown",
   "metadata": {},
   "source": [
    "## 2.3 数组遍历"
   ]
  },
  {
   "cell_type": "code",
   "execution_count": null,
   "metadata": {},
   "outputs": [],
   "source": [
    "# 遍历\n",
    "nums = [5, 2, 3, 4, 1]\n",
    "# 1.with index and value\n",
    "for i, val in enumerate(nums):\n",
    "    print(i, val)\n",
    "\n",
    "# 2.using index\n",
    "# to loop through the array from i to len(nums) [i = 0, i = len(nums))\n",
    "for i in range(len(nums)):\n",
    "    print(i, nums[i])\n",
    "\n",
    "for i in range(len(nums)-1, -1, -1):\n",
    "    print(i, nums[i])\n",
    "\n",
    "# 3.without index\n",
    "for n in nums:\n",
    "  print(n)\n",
    "  \n",
    "# 4.从两头向中间遍历\n",
    "print(\"从两头向中间遍历:\")\n",
    "i = 0\n",
    "j = len(nums) -1\n",
    "while i < j:\n",
    "    print(nums[i], nums[j])\n",
    "    i += 1\n",
    "    j -= 1\n",
    "print(nums[i]) "
   ]
  },
  {
   "cell_type": "markdown",
   "metadata": {},
   "source": [
    "## 2.4 小根堆"
   ]
  },
  {
   "cell_type": "code",
   "execution_count": 97,
   "metadata": {},
   "outputs": [
    {
     "name": "stdout",
     "output_type": "stream",
     "text": [
      "[1, ['a', 'b']]\n",
      "[1, ['a', 'b']]\n",
      "[1, 2, 3, 4, 5]\n"
     ]
    }
   ],
   "source": [
    "from heapq import heappush, heappop, heapify\n",
    "min_heap = []\n",
    "heappush(min_heap, [1, ['a', 'b']])\n",
    "heappush(min_heap, [2, ['a', 'c']])\n",
    "print(min_heap[0]) # (1, ('a', 'b'))\n",
    "print(heappop(min_heap)) # (1, ('a', 'b'))\n",
    "\n",
    "arr = [5, 2, 3, 4, 1]\n",
    "heapify(arr)\n",
    "print(arr) # [1, 2, 3, 4, 5] arr[i]的两个子节点是arr[2*i+1]和arr[2*i+2]"
   ]
  },
  {
   "cell_type": "markdown",
   "metadata": {},
   "source": [
    "## 2.5 二维数组"
   ]
  },
  {
   "cell_type": "code",
   "execution_count": null,
   "metadata": {},
   "outputs": [],
   "source": [
    "# 创建m行n列的二维数组\n",
    "m, n = 3, 4\n",
    "matrix = [[0] * n for _ in range(m)]\n",
    "\n",
    "# 获取matrix的行数和列数\n",
    "m = len(matrix)\n",
    "n = len(matrix[0])\n",
    "\n",
    "# 二维数组的遍历\n",
    "for i in range(m):\n",
    "    for j in range(n):\n",
    "        print(matrix[i][j])\n",
    "\n",
    "# 获取matrix[i][j]的上下左右四个元素\n",
    "for x, y in [(i-1, j), (i+1, j), (i, j-1), (i, j+1)]:\n",
    "    if 0 <= x < m and 0 <= y < n:\n",
    "        print(matrix[x][y])\n",
    "\n",
    "# 二维数组的深拷贝\n",
    "import copy\n",
    "matrix_copy = copy.deepcopy(matrix)\n",
    "\n",
    "# 二维数组的浅拷贝\n",
    "matrix_copy = [row[:] for row in matrix]\n",
    "\n",
    "# 二维数组的排序\n",
    "matrix.sort(key=lambda x: x[0]) # 按照第一列升序排序\n",
    "\n",
    "# 把每行变有序\n",
    "for row in matrix:\n",
    "    row.sort()\n"
   ]
  },
  {
   "cell_type": "code",
   "execution_count": null,
   "metadata": {},
   "outputs": [],
   "source": [
    "m = [[4, 2, 3], [2, 1, 6], [7, 8, 9]]\n",
    "m.sort(key=lambda x: x[1]) # 按照第二列升序排序\n",
    "m\n",
    "# "
   ]
  },
  {
   "cell_type": "markdown",
   "metadata": {},
   "source": [
    "## 2.6 quicksort"
   ]
  },
  {
   "cell_type": "markdown",
   "metadata": {},
   "source": [
    "## 2.7 binary search"
   ]
  },
  {
   "cell_type": "markdown",
   "metadata": {},
   "source": [
    "## 2.8 union find"
   ]
  },
  {
   "cell_type": "code",
   "execution_count": null,
   "metadata": {},
   "outputs": [],
   "source": [
    "class UnionFind:\n",
    "    def __init__(self, n):\n",
    "        self.parent = [i for i in range(n)]\n",
    "        self.weight = [1] * n  #到父节点的权重\n",
    "    \n",
    "    def find(self, x):\n",
    "        p = self.parent[x]\n",
    "        while p != self.parent[p]: # 如果跟节点不是自旋节点，就调整x的父节点，减少树的高度，提高效率\n",
    "            self.parent[x] = self.parent[p] # 路径压缩，将x的父节点变更为爷爷\n",
    "            # 如果权重有定义计算关系，此处需要更新权重self.weight[x], 父节点改变时，到父节点的权重也要更新\n",
    "            p = self.parent[p]\n",
    "        return self.parent[x]\n",
    "    \n",
    "    def union(self, x, y):\n",
    "        root_x = self.find(x)\n",
    "        root_y = self.find(y)\n",
    "        if root_x != root_y:\n",
    "            self.parent[root_x] = root_y\n",
    "            # 如果权重有定义计算关系，此处需要更新权重self.weight[root_y]\n",
    "            self.parent[x] = root_y\n",
    "            # 如果权重有定义计算关系，此处需要更新权重self.weight[x]\n",
    "            "
   ]
  },
  {
   "cell_type": "markdown",
   "metadata": {},
   "source": [
    "# 3.双端队列deque\n",
    "## append + popleft = queue\n",
    "## append + pop = stack"
   ]
  },
  {
   "cell_type": "code",
   "execution_count": null,
   "metadata": {},
   "outputs": [],
   "source": [
    "from collections import deque,Counter, defaultdict\n",
    "q = deque()\n",
    "q.append('a')\n",
    "q.append('b')\n",
    "q.append('c')\n",
    "print(q[0]) # 1 #first element\n",
    "print(q[-1]) # 5 #last element\n",
    "print(q.popleft()) # a, 删除第一个元素，时间复杂度O(1)\n",
    "print(q.pop()) # c, 删除最后一个元素，时间复杂度O(1)\n",
    "q.appendleft('d') # 在左边添加元素\n",
    "q.rotate(1) # 向右旋转，时间复杂度O(k)\n",
    "q.rotate(-1) # 向左旋转，时间复杂度O(k)\n"
   ]
  },
  {
   "cell_type": "code",
   "execution_count": 98,
   "metadata": {},
   "outputs": [
    {
     "name": "stdout",
     "output_type": "stream",
     "text": [
      "1\n",
      "5\n",
      "1\n",
      "2\n",
      "3\n",
      "4\n",
      "5\n"
     ]
    }
   ],
   "source": [
    "q = deque([1, 2, 3, 4, 5])\n",
    "print(q[0]) # 1 #first element\n",
    "print(q[-1]) # 5 #last element\n",
    "for e in q:\n",
    "    print(e)"
   ]
  },
  {
   "cell_type": "markdown",
   "metadata": {},
   "source": [
    "# 4.字典"
   ]
  },
  {
   "cell_type": "code",
   "execution_count": null,
   "metadata": {},
   "outputs": [],
   "source": [
    "from collections import deque,Counter, defaultdict\n",
    "d = {}\n",
    "d[1] = 1\n",
    "d = defaultdict(list) # 默认值是list，如果key不存在，返回[],\n",
    "# 可直接添加元素，不用defaultdict(list),则要if key not in d: d[key] = []这样初始化\n",
    "d[1].append(1)\n",
    "d[2]\n"
   ]
  },
  {
   "cell_type": "code",
   "execution_count": null,
   "metadata": {},
   "outputs": [],
   "source": [
    "# 列表生成统计元素出现的次数的字典\n",
    "d = Counter([1, 2, 3, 4, 1, 2, 3, 1, 2, 1])\n",
    "for k, v in d.items():\n",
    "    print(k, v)"
   ]
  },
  {
   "cell_type": "code",
   "execution_count": null,
   "metadata": {},
   "outputs": [],
   "source": [
    "from collections import defaultdict\n",
    "class Node:\n",
    "    def __init__(self, val=0):\n",
    "        self.val = val\n",
    "        self.nxt = None\n",
    "        \n",
    "d = defaultdict(dict)\n",
    "n1 = Node(1)\n",
    "n2 = Node(2)\n",
    "d[n1][n2] = 1\n",
    "d\n",
    "\n",
    "l1 = [1, 2, 3, 4, 5]\n",
    "l2 = l1[1:3] # 切割出了一个新的list\n",
    "l2[0] = 100\n",
    "print(l1) # [1, 2, 3, 4, 5]\n",
    "print(l2) # [100, 3]\n",
    "\n",
    "\n",
    "# 因为 frozenset 是不可变的，所以你不能添加或删除它的元素。如果你试图这样做，Python 会抛出一个错误。\n",
    "fs = frozenset([1, 2, 3, 4, 5])\n",
    "print(fs)       # 输出：frozenset({1, 2, 3, 4, 5})\n",
    "d2 = {}\n",
    "d2[True] = 1    # 布尔值可以作为key\n",
    "d2[(1,2)] = 2   # 元组可以作为key\n",
    "d2['a'] = 3     # 字符串可以作为key\n",
    "d2[4] = 4       # 整数可以作为key\n",
    "d2[1.2] = 5     # 浮点数可以作为key\n",
    "d2[fs] = 6      # frozenset可以作为key\n",
    "d2[n1] = 7      # 树节点也可以作为key\n",
    "d2"
   ]
  },
  {
   "cell_type": "markdown",
   "metadata": {},
   "source": [
    "## Trie树\n",
    "create_trie(words): 构造一颗trie树\n",
    "insert(trie, word)：往trie树里插入一个单词\n",
    "search(trie, word): 查看word单词是否存在"
   ]
  },
  {
   "cell_type": "code",
   "execution_count": null,
   "metadata": {},
   "outputs": [],
   "source": [
    "import json\n",
    "\n",
    "def insert(trie, word):\n",
    "    cur = trie\n",
    "    for c in word:\n",
    "        if c not in cur:\n",
    "            cur[c] = {}\n",
    "        cur = cur[c]\n",
    "    cur['#'] = '#'\n",
    "    \n",
    "def get_trie(words):\n",
    "    trie = {}\n",
    "    for w in words: \n",
    "        insert(trie, w)\n",
    "    return trie\n",
    "\n",
    "words = [\"word\", \"war\", \"was\"]\n",
    "print(json.dumps(get_trie(words), indent=2))"
   ]
  },
  {
   "cell_type": "code",
   "execution_count": 87,
   "metadata": {},
   "outputs": [
    {
     "data": {
      "text/plain": [
       "[1, 2]"
      ]
     },
     "execution_count": 87,
     "metadata": {},
     "output_type": "execute_result"
    }
   ],
   "source": [
    "arr = [1,2,3,4,5,6]\n",
    "while arr and arr[-1] >= 2:\n",
    "    arr.pop()\n",
    "arr.append(2)\n",
    "arr"
   ]
  },
  {
   "cell_type": "code",
   "execution_count": null,
   "metadata": {},
   "outputs": [],
   "source": [
    "def search(trie, word):\n",
    "    t = trie # t指向trie树根这一层\n",
    "    for c in word:\n",
    "        if c not in t:\n",
    "            return False\n",
    "        t = t[c] # 指向子trie树\n",
    "    return '#' in t # 判断是否是单词结尾\n",
    "\n",
    "search(get_trie(words), 'word') # True\n",
    "search(get_trie(words), '33') # True\n",
    "search(get_trie(words), 'wor') # False, 因为wor的下一轮没有不是单词结尾\n"
   ]
  },
  {
   "cell_type": "markdown",
   "metadata": {},
   "source": [
    "# 5.链表"
   ]
  },
  {
   "cell_type": "code",
   "execution_count": null,
   "metadata": {},
   "outputs": [],
   "source": [
    "class Node:\n",
    "    def __init__(self, val):\n",
    "        self.val = val\n",
    "        self.nxt = None\n",
    "        self.pre = None\n",
    "        \n",
    "# 创建链表\n",
    "head = Node(0)\n",
    "p = head\n",
    "for i in range(1, 10):\n",
    "    p.next = Node(i)\n",
    "    p.next.prev = p\n",
    "    p = p.next\n",
    "    \n"
   ]
  },
  {
   "cell_type": "markdown",
   "metadata": {},
   "source": [
    "# 6.树\n",
    "## 前序遍历\n",
    "## 中序遍历\n",
    "## 后序遍历\n"
   ]
  },
  {
   "cell_type": "code",
   "execution_count": null,
   "metadata": {},
   "outputs": [],
   "source": [
    "class Node:\n",
    "    def __init__(self, val):\n",
    "        self.val = val\n",
    "        self.left = None\n",
    "        self.right = None\n",
    "        \n",
    "class TreeNode:\n",
    "    def __init__(self, val=0, left=None, right=None):\n",
    "        self.val = val\n",
    "        self.left = left\n",
    "        self.right = right"
   ]
  },
  {
   "cell_type": "code",
   "execution_count": null,
   "metadata": {},
   "outputs": [],
   "source": [
    "# The non-recursive implementation of postorder traversal for a binary tree involves using a stack.\n",
    "# The idea is to use two stacks. The first stack is used to perform a modified preorder traversal (root, right, left)\n",
    "# and the second stack is used to store the nodes in postorder.\n",
    "\n",
    "def postorderTraversal(root):\n",
    "    if not root:\n",
    "        return []\n",
    "    result = []\n",
    "    stack = [root] \n",
    "    while  stack:\n",
    "        node = stack.pop()\n",
    "        result.append(node.val)\n",
    "        if node.left:\n",
    "            stack.append(node.left)\n",
    "        if node.right:\n",
    "            stack.append(node.right)\n",
    "    result = reversed(result)\n",
    "    return result\n",
    "\n",
    "# 先序遍历也是深度优先的思想\n",
    "def preorderTraversal(root):\n",
    "    if not root:\n",
    "        return []\n",
    "    result = []\n",
    "    stack = [root]\n",
    "    while stack:\n",
    "        node = stack.pop()\n",
    "        result.append(node.val)\n",
    "        if node.right:\n",
    "            stack.append(node.right)\n",
    "        if node.left:\n",
    "            stack.append(node.left)\n",
    "    return result\n",
    "\n",
    "def inorder_traversal(root):\n",
    "    result, stack = [], []\n",
    "    current = root\n",
    "    while current or stack:\n",
    "        # Reach the leftmost node of the current node\n",
    "        while current: #右子树的左节点依次进栈\n",
    "            stack.append(current)\n",
    "            current = current.left\n",
    "        # Current must be None at this point\n",
    "        current = stack.pop() #将最左边的左节点出栈\n",
    "        result.append(current.val)  # Add the node's value\n",
    "        current = current.right  # Switch to right subtree，如果右子树为空，下一次循环会弹出栈顶元素\n",
    "    return result\n",
    "    # Use a stack to track nodes and a current pointer to traverse the tree.\n",
    "    # The basic idea is to push all the left children onto the stack until you can't anymore,\n",
    "    # then pop from the stack, process the node's value, and move to its right subtree.\n"
   ]
  },
  {
   "cell_type": "markdown",
   "metadata": {},
   "source": [
    "## 层次遍历"
   ]
  },
  {
   "cell_type": "code",
   "execution_count": null,
   "metadata": {},
   "outputs": [],
   "source": []
  },
  {
   "cell_type": "code",
   "execution_count": 85,
   "metadata": {},
   "outputs": [
    {
     "data": {
      "text/plain": [
       "4"
      ]
     },
     "execution_count": 85,
     "metadata": {},
     "output_type": "execute_result"
    }
   ],
   "source": [
    "# 层次遍历\n",
    "def bfs(root):\n",
    "    result = []\n",
    "    q = deque([root])\n",
    "    while q:\n",
    "        node = q[0]\n",
    "        result.append(node.val)\n",
    "        q2 = deque()\n",
    "        while q:\n",
    "            for node in q:\n",
    "                if node.left:\n",
    "                    q2.append(node.left)\n",
    "                if node.right:\n",
    "                    q2.append(node.right)\n",
    "        q = q2\n",
    "    return result\n",
    "\n"
   ]
  },
  {
   "cell_type": "markdown",
   "metadata": {},
   "source": [
    "# 7.graph\n",
    "## bfs\n",
    "## dfs\n",
    "## flood fill：\n",
    "## topology： 找到入度为零的点放入队列中，然后出队队头，将出队元素的outdegree节点的ingree节点集合里移除队头元素。\n",
    "\n"
   ]
  },
  {
   "cell_type": "markdown",
   "metadata": {},
   "source": [
    "## 7.1 图的表示，用字典表示"
   ]
  },
  {
   "cell_type": "code",
   "execution_count": null,
   "metadata": {},
   "outputs": [],
   "source": [
    "# 无权图，key是节点名称，值是邻居列表\n",
    "graph = { \n",
    "    'A': ['B', 'C'],\n",
    "    'B': ['A', 'C'],\n",
    "    'C': ['A', 'B']\n",
    "}\n",
    "# 带权图，key是节点名称; 值是一个dict，key是邻居，value是权重\n",
    "weighted_graph ={\n",
    "    'A': {'B': 5, 'C': 10}, \n",
    "    'B': {'A': 5, 'C': 2}, \n",
    "    'C': {'A': 10, 'B': 2}\n",
    "}\n"
   ]
  },
  {
   "cell_type": "markdown",
   "metadata": {},
   "source": [
    "# 8.back track\n",
    "## 全排列 permute\n",
    "## 组合 combine"
   ]
  },
  {
   "cell_type": "code",
   "execution_count": null,
   "metadata": {},
   "outputs": [],
   "source": [
    "from typing import List\n",
    "\n",
    "\n",
    "class Solution:\n",
    "    def permute(self, nums: List[int]) -> List[List[int]]:\n",
    "        '''\n",
    "        返回nums的全排列，时间复杂度O(n!)\n",
    "        '''\n",
    "        res = []\n",
    "        n = len(nums)\n",
    "\n",
    "        def bt(nums, pre: List[int], visited: set) -> None:\n",
    "            if len(pre) == n:\n",
    "                res.append(pre)\n",
    "                return\n",
    "            for i in range(n):\n",
    "                if nums[i] not in visited:\n",
    "                    visited.add(nums[i])\n",
    "                    bt(nums, pre + [nums[i]], visited)\n",
    "                    visited.remove(nums[i])\n",
    "        pre = []\n",
    "        bt(nums, pre, set())\n",
    "        return res\n",
    "    \n",
    "Solution().permute([1, 2, 3])"
   ]
  },
  {
   "cell_type": "code",
   "execution_count": null,
   "metadata": {},
   "outputs": [],
   "source": [
    "class Solution:\n",
    "    def combine(self, n: int, k: int) -> List[List[int]]:\n",
    "        res = []\n",
    "        def bt(start, nums): # 递归过程中改变nums数组的值，把符合要求的nums数组copy一份放入结果集\n",
    "            if len(nums) == k:\n",
    "                res.append(nums.copy())\n",
    "                return\n",
    "            for i in range(start, n+1):\n",
    "                nums.append(i) # 扩大部分解的范围\n",
    "                bt(i+1, nums) #递归访问子树中的剩余解\n",
    "                nums.pop() # 弹出的是i+1\n",
    "        \n",
    "        bt(1, [])\n",
    "\n",
    "        return res"
   ]
  },
  {
   "cell_type": "markdown",
   "metadata": {},
   "source": [
    "# 9.dynamic programming"
   ]
  },
  {
   "cell_type": "markdown",
   "metadata": {},
   "source": [
    "# 10.字符串"
   ]
  },
  {
   "cell_type": "code",
   "execution_count": null,
   "metadata": {},
   "outputs": [],
   "source": [
    "s = \"abcdcecfgh\"\n",
    "\n",
    "'''\n",
    "index 和 find 都是 Python 中用于查找子字符串的方法，但它们处理查找不到子字符串的情况不同。\n",
    "str.index(sub) 方法在字符串中查找子字符串 sub，如果找到，返回子字符串的第一个字符在字符串中的索引；如果找不到，会抛出一个 ValueError 异常。\n",
    "str.find(sub) 方法也是在字符串中查找子字符串 sub，如果找到，返回子字符串的第一个字符在字符串中的索引；但如果找不到，不会抛出异常，而是返回 -1。\n",
    "所以，当你确定子字符串一定存在于字符串中时，可以使用 index 方法；如果不确定，为了避免程序因为抛出异常而中断，应该使用 find 方法。'''\n",
    "# str operations example:\n",
    "print(s.index(\"c\")) # 2 , return the first occurence index of \"c\"，\n",
    "print(s.find(\"c\")) # 2 找到返回第一个c的位置，找不到返回-1\n",
    "print(s.count(\"c\")) # 3,计算c出现的次数\n",
    "print(s.replace(\"c\", \"C\")) # abCdCefgh\n",
    "print(s.isdigit()) # False\n",
    "print(\"45\".isdigit()) # True\n",
    "print(s.isalpha()) # True\n",
    "print(s.islower()) # True\n",
    "print(s.isupper()) # False\n",
    "print(s.isspace()) # False\n",
    "print(s.upper()) # ABCDCEFGH\n",
    "print(s.lower()) # abcdcefgh\n",
    "print(s.startswith(\"ab\")) # True\n",
    "print(s.endswith(\"gh\")) # True\n",
    "print(s.split(\"c\")) # ['ab', 'd', 'efgh']\n",
    "print(s.split(\"c\", 1)) # ['ab', 'dcefgh'], split by first occurence\n",
    "print(s.strip(\"gh\")) # abcdcef\n",
    "print(s.lstrip(\"ab\")) # cdcefgh\n",
    "print(s.rstrip(\"gh\")) # abcdcef\n",
    "print(s.join([\"1\", \"2\", \"3\"])) # 1abcdcefgh2abcdcefgh3\n",
    "print(s.partition(\"c\")) # ('ab', 'c', 'dcefgh'),partition by first occurence, return tuple\n",
    "print(s.rpartition(\"c\")) # ('abcd', 'c', 'efgh'),partition by last occurence, return tuple\n",
    "print(s.rfind(\"c\")) # 2\n",
    "print(s.rindex(\"c\")) # 2\n",
    "print(s.startswith(\"ab\")) # True\n",
    "print(s.endswith(\"gh\")) # True\n",
    "print(s.isalnum()) # True, isalnum() is equivalent to isalpha() or isdigit()\n",
    "print(s.isnumeric()) # False\n",
    "print(s.isdecimal()) # False\n",
    "print(s.isidentifier()) # True, isidentifier() is equivalent to isalnum() or startswith('_')\n",
    "print(s[::-1])\n",
    "\n"
   ]
  },
  {
   "cell_type": "code",
   "execution_count": null,
   "metadata": {},
   "outputs": [],
   "source": [
    "# some_str.split() 方法返回一个包含分割后的字符串的列表。默认情况下，它会使用任何空白字符来分割字符串。这些空白字符包括空格、制表符（\\t）、换行符（\\n）、回车符（\\r）和换页符（\\f）。\n",
    "text = \"Hello world\\nThis is\\t an example. Yes\"\n",
    "words = text.split() # 输出: ['Hello', 'world', 'This', 'is', 'an', 'example.', 'Yes']\n",
    "words"
   ]
  },
  {
   "cell_type": "code",
   "execution_count": null,
   "metadata": {},
   "outputs": [],
   "source": [
    "s = \"abc\"\n",
    "s = s[::-1] # 反转字符串, s = \"cba\"\n",
    "ord('a') # 97, 字符转ASCII"
   ]
  },
  {
   "cell_type": "code",
   "execution_count": null,
   "metadata": {},
   "outputs": [],
   "source": [
    "# 在 Python 中，字符串 \"abcdef\" 的 [::-7] 是使用 slice 操作来索引字符串。\n",
    "# Slice 的语法是 [start:stop:step]，其中 start 是切片开始的位置，stop 是切片结束的位置（但不包括这个位置），而 step 是步长，决定了选择元素的间隔。\n",
    "\"abcdef\"[::-2]  #'fdb', 从n-1到0，每隔2个字符取一个字符\n",
    "\"abcdef\"[::2]  # 'ace', 从0到n-1，每隔2个字符取一个字符\n",
    "\"abcdef\"[::-7] # 'f', 从n-1到0，每隔7个字符取一个字符,所以只能取到首字符"
   ]
  },
  {
   "cell_type": "markdown",
   "metadata": {},
   "source": [
    "# 11.位运算"
   ]
  },
  {
   "cell_type": "code",
   "execution_count": null,
   "metadata": {},
   "outputs": [],
   "source": [
    "n = 8 # 0b1000\n",
    "n & 1 << i  #检测第i位是否为1\n",
    "n | 1 << i  #将第i位置为1\n",
    "n & ~(1 << i) #将第i位清零\n",
    "n & (n-1) #将最后一个1变为0\n",
    "n & -n #得到最后一个1"
   ]
  },
  {
   "cell_type": "code",
   "execution_count": null,
   "metadata": {},
   "outputs": [],
   "source": [
    "print(0b1000) # 8\n",
    "print(0o10) # 8\n",
    "print(0x8) # 8\n",
    "\n",
    "\"123\"\n",
    "print(int(\"123\")) # 123\n",
    "def str_to_int(s:str)->int:\n",
    "    result = 0\n",
    "    for c in s:\n",
    "        result = result * 10 + ord(c) - ord('0')\n",
    "    return result\n",
    "print(str_to_int(\"123\")) # 123"
   ]
  },
  {
   "cell_type": "code",
   "execution_count": null,
   "metadata": {},
   "outputs": [],
   "source": [
    "x = 2\n",
    "i = 3\n",
    "print(x << i) # 16, x左移i位，等价于x * 2^i\n",
    "print(x * pow(2, i)) # 16"
   ]
  },
  {
   "cell_type": "code",
   "execution_count": null,
   "metadata": {},
   "outputs": [],
   "source": [
    "2 * pow(2, 3)"
   ]
  },
  {
   "cell_type": "code",
   "execution_count": null,
   "metadata": {},
   "outputs": [],
   "source": [
    "print(8 & 7)\n",
    "print(7 & 6)"
   ]
  },
  {
   "cell_type": "code",
   "execution_count": null,
   "metadata": {},
   "outputs": [],
   "source": [
    "def hammingWeight(n: int) -> int:\n",
    "    '''\n",
    "    计算一个数的二进制表示中有多少个1\n",
    "    '''\n",
    "    result = 0\n",
    "    for i in range(32):\n",
    "        if n & 1 << i:  # 判断n的第i位是否为1\n",
    "            result += 1\n",
    "    return result\n",
    "\n",
    "hammingWeight(7)"
   ]
  },
  {
   "cell_type": "code",
   "execution_count": 2,
   "metadata": {},
   "outputs": [
    {
     "name": "stdout",
     "output_type": "stream",
     "text": [
      "2\n",
      "2\n"
     ]
    }
   ],
   "source": [
    "print(3 & 2)\n",
    "print(3 & 1 << 1)"
   ]
  },
  {
   "cell_type": "markdown",
   "metadata": {},
   "source": [
    "# 12.数学"
   ]
  },
  {
   "cell_type": "code",
   "execution_count": 104,
   "metadata": {},
   "outputs": [
    {
     "name": "stdout",
     "output_type": "stream",
     "text": [
      "5\n",
      "10\n"
     ]
    }
   ],
   "source": [
    "import math\n",
    "import random\n",
    "a = random.choice([1, 2, 3, 4, 5])\n",
    "print(a)\n",
    "\n",
    "i = random.randint(1, 10) # 生成[1,10]之间的随机整数, 包括1和10\n",
    "print(i)"
   ]
  }
 ],
 "metadata": {
  "kernelspec": {
   "display_name": "py310",
   "language": "python",
   "name": "python3"
  },
  "language_info": {
   "codemirror_mode": {
    "name": "ipython",
    "version": 3
   },
   "file_extension": ".py",
   "mimetype": "text/x-python",
   "name": "python",
   "nbconvert_exporter": "python",
   "pygments_lexer": "ipython3",
   "version": "3.10.13"
  }
 },
 "nbformat": 4,
 "nbformat_minor": 2
}
