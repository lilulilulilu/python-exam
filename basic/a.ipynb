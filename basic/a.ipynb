{
 "cells": [
  {
   "cell_type": "code",
   "execution_count": 4,
   "metadata": {},
   "outputs": [
    {
     "data": {
      "text/plain": [
       "{'a', 'b', 'c', 'd', 'e'}"
      ]
     },
     "execution_count": 4,
     "metadata": {},
     "output_type": "execute_result"
    }
   ],
   "source": [
    "# set是一个无序的集合，它不记录元素的插入顺序。这意味着当你遍历或打印一个set时，元素的顺序可能与插入顺序不同。\n",
    "s = set()\n",
    "s.add(\"a\")\n",
    "s.remove('a') # 删除元素,时间复杂度O(1)\n",
    "s.update(['a', 'b', 'c']) # 把列表中所有元素加入集合，原集合改变\n",
    "s2 = s.union(['d', 'e']) # 把列表中所有元素加入集合，返回一个新集合\n",
    "s3 = s2.copy()\n",
    "s3\n"
   ]
  },
  {
   "cell_type": "code",
   "execution_count": 5,
   "metadata": {},
   "outputs": [
    {
     "data": {
      "text/plain": [
       "['b', 'd']"
      ]
     },
     "execution_count": 5,
     "metadata": {},
     "output_type": "execute_result"
    }
   ],
   "source": [
    "l = []\n",
    "l.append('a')\n",
    "l.remove('a') # 删除列表中第一次出现的value，时间复杂度O(n)\n",
    "l.extend(['d', 'e']) # 添加多个元素,时间复杂度O(k),原集合改变\n",
    "i = l.index('d') # 返回元素的索引\n",
    "l.insert(1, 'b') # 在指定位置插入元素\n",
    "l.pop() # 删除最后一个元素，in constant time\n",
    "l.sort() # 排序，原list改变\n",
    "l1 = sorted(l) # 排序，返回一个新的list\n",
    "l1"
   ]
  },
  {
   "cell_type": "code",
   "execution_count": 6,
   "metadata": {},
   "outputs": [
    {
     "data": {
      "text/plain": [
       "{'b': 2, 'c': 3, 'd': 4}"
      ]
     },
     "execution_count": 6,
     "metadata": {},
     "output_type": "execute_result"
    }
   ],
   "source": [
    "d = {}\n",
    "d['a'] = 1\n",
    "d['b'] = 2\n",
    "d.pop('a') # 删除key，时间复杂度O(1)\n",
    "d.update({'c': 3, 'd': 4}) # 添加多个元素,时间复杂度O(k),原字典改变\n",
    "d2 = d.copy()\n",
    "d2"
   ]
  },
  {
   "cell_type": "code",
   "execution_count": 11,
   "metadata": {},
   "outputs": [
    {
     "data": {
      "text/plain": [
       "deque(['d', 'b', 'c'])"
      ]
     },
     "execution_count": 11,
     "metadata": {},
     "output_type": "execute_result"
    }
   ],
   "source": [
    "from collections import Counter, deque\n",
    "q = deque()\n",
    "q.append('a')\n",
    "q.append('b')\n",
    "q.append('c')\n",
    "q.popleft() # 删除第一个元素，时间复杂度O(1)\n",
    "q.appendleft('d') # 在左边添加元素\n",
    "q.rotate(1) # 向右旋转，时间复杂度O(k)\n",
    "q.rotate(-1) # 向左旋转，时间复杂度O(k)\n",
    "q\n"
   ]
  },
  {
   "cell_type": "code",
   "execution_count": 15,
   "metadata": {},
   "outputs": [
    {
     "data": {
      "text/plain": [
       "1"
      ]
     },
     "execution_count": 15,
     "metadata": {},
     "output_type": "execute_result"
    }
   ],
   "source": [
    "5//3\n",
    "\n",
    "6//3\n",
    "\n",
    "import math\n",
    "math.floor(4/3)"
   ]
  },
  {
   "cell_type": "code",
   "execution_count": 23,
   "metadata": {},
   "outputs": [
    {
     "name": "stdout",
     "output_type": "stream",
     "text": [
      "0\n",
      "0\n",
      "0\n",
      "2\n",
      "2\n",
      "[[0, 0, 0, 0, 0, 0, 0, 0, 0], [0, 0, 0, 0, 0, 0, 0, 0, 0], [0, 0, 0, 0, 0, 0, 0, 0, 0], [0, 0, 0, 0, 0, 0, 0, 0, 0], [0, 0, 0, 0, 0, 0, 0, 0, 0], [0, 0, 0, 0, 0, 0, 0, 0, 0], [0, 0, 0, 0, 0, 0, 0, 0, 0], [0, 0, 0, 0, 0, 0, 0, 0, 0], [0, 0, 0, 0, 0, 0, 0, 0, 0]]\n",
      "[[0, 1, 2, 3, 4, 5, 6, 7, 8], [9, 10, 11, 12, 13, 14, 15, 16, 17], [18, 19, 20, 21, 22, 23, 24, 25, 26], [27, 28, 29, 30, 31, 32, 33, 34, 35], [36, 37, 38, 39, 40, 41, 42, 43, 44], [45, 46, 47, 48, 49, 50, 51, 52, 53], [54, 55, 56, 57, 58, 59, 60, 61, 62], [63, 64, 65, 66, 67, 68, 69, 70, 71], [72, 73, 74, 75, 76, 77, 78, 79, 80]]\n"
     ]
    }
   ],
   "source": [
    "print(0//3)\n",
    "print(1//3)\n",
    "print(2//3)\n",
    "\n",
    "print(6//3)\n",
    "print(7//3)\n",
    "\n",
    "\n",
    "rows = [[0]*9 for _ in range(9)]\n",
    "print(rows)\n",
    "k = 0\n",
    "for i in range(9):\n",
    "    for j in range(9):\n",
    "        rows[i][j] = k \n",
    "        k += 1\n",
    "print(rows)\n"
   ]
  },
  {
   "cell_type": "code",
   "execution_count": 25,
   "metadata": {},
   "outputs": [],
   "source": [
    "subboxes = [[[0]*9 for _ in range(3)] for _ in range(3)]\n"
   ]
  }
 ],
 "metadata": {
  "kernelspec": {
   "display_name": "py310",
   "language": "python",
   "name": "python3"
  },
  "language_info": {
   "codemirror_mode": {
    "name": "ipython",
    "version": 3
   },
   "file_extension": ".py",
   "mimetype": "text/x-python",
   "name": "python",
   "nbconvert_exporter": "python",
   "pygments_lexer": "ipython3",
   "version": "3.10.13"
  }
 },
 "nbformat": 4,
 "nbformat_minor": 2
}
