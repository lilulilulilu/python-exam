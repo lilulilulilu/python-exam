{
 "cells": [
  {
   "cell_type": "code",
   "execution_count": null,
   "metadata": {},
   "outputs": [],
   "source": [
    "# 1.创建一个空dict，并往里面加入k-v对\n",
    "d1 = {}\n",
    "d1['alice'] = 88\n",
    "d1['bob'] = 77\n",
    "print(d1)\n",
    "\n",
    "# 2.创建一个带有初始值的dict\n",
    "d2 = {\"alice\": 88, \"bob\": 77}\n",
    "print(d2)\n",
    "\n",
    "# 3.用dict comprehension创建dict\n",
    "d3 = { i: 2*i for i in range(3)}\n",
    "print(\"d3:\", d3) # {0: 0, 1: 2, 2: 4}\n",
    "\n",
    "# 删除一个元素, in constant time\n",
    "v = d1.pop('alice') # output: 88\n",
    "k, v = d1.popitem() # output: ('bob', 77)\n",
    "\n",
    "#looping through maps\n",
    "mp = {\"alice\": 88, \"bob\": 77}\n",
    "\n",
    "keys = mp.keys() # output: dict_keys(['alice', 'bob'])\n",
    "values = mp.values() # output: dict_values([88, 77])\n",
    "print(f'keys: {keys}, values: {values}')\n",
    "for k in keys:\n",
    "  print(k)\n",
    "  \n",
    "for k in mp:\n",
    "  print(k, mp[k])\n",
    "\n",
    "for v in mp.values():\n",
    "  print(v)\n",
    "\n",
    "for k, v in mp.items():\n",
    "  print(k, v)"
   ]
  },
  {
   "cell_type": "code",
   "execution_count": null,
   "metadata": {},
   "outputs": [],
   "source": [
    "d2 = {\"alice\": 88, \"bob\": 77}\n",
    "print(d2)\n",
    "# 删除一个元素, in constant time\n",
    "e = d2.pop('alice') # 88\n",
    "print(e)\n",
    "e2 = d2.popitem() # ('bob', 77)， 返回键值对的元组\n",
    "print(e2)\n",
    "print(d2)"
   ]
  },
  {
   "cell_type": "code",
   "execution_count": null,
   "metadata": {},
   "outputs": [],
   "source": [
    "d2 = {\"alice\": 88, \"bob\": 77}\n",
    "d3 = { \"bob\": 77, \"alice\": 88}\n",
    "d2 == d3\n",
    "\n",
    "import  collections\n",
    "collections.Counter([1, 3, 3, 4])"
   ]
  },
  {
   "cell_type": "code",
   "execution_count": null,
   "metadata": {},
   "outputs": [],
   "source": [
    "pairs = {\n",
    "    'a' : [1, 2, 3],\n",
    "    'b' : [4, 5]\n",
    "}\n",
    "\n",
    "d = {}\n",
    "for key, value in pairs.items():\n",
    "    if key not in d:\n",
    "        d[key] = []\n",
    "    d[key].append(value)\n",
    "print(\"d:\", d)\n",
    "print(d.items())"
   ]
  },
  {
   "cell_type": "code",
   "execution_count": 2,
   "metadata": {},
   "outputs": [
    {
     "name": "stdout",
     "output_type": "stream",
     "text": [
      "defaultdict_d defaultdict(<class 'list'>, {'a': [[1, 2, 3]], 'b': [[4, 5]]})\n"
     ]
    }
   ],
   "source": [
    "from collections import defaultdict\n",
    "\n",
    "d1 = {\n",
    "    'a' : [1, 2, 3],\n",
    "    'b' : [4, 5]\n",
    "}\n",
    "\n",
    "d = defaultdict(list)\n",
    "for key, value in d1.items():\n",
    "    d[key].append(value)\n",
    "print(\"defaultdict_d\", d)"
   ]
  },
  {
   "cell_type": "code",
   "execution_count": 19,
   "metadata": {},
   "outputs": [
    {
     "name": "stdout",
     "output_type": "stream",
     "text": [
      "[1, 2, 3, 4, 5]\n",
      "[100, 3]\n",
      "frozenset({1, 2, 3, 4, 5})\n"
     ]
    },
    {
     "data": {
      "text/plain": [
       "{True: 1,\n",
       " (1, 2): 2,\n",
       " 'a': 3,\n",
       " 4: 4,\n",
       " 1.2: 5,\n",
       " frozenset({1, 2, 3, 4, 5}): 6,\n",
       " <__main__.Node at 0x7faafef8e620>: 7}"
      ]
     },
     "execution_count": 19,
     "metadata": {},
     "output_type": "execute_result"
    }
   ],
   "source": [
    "from collections import defaultdict\n",
    "class Node:\n",
    "    def __init__(self, val=0):\n",
    "        self.val = val\n",
    "        \n",
    "d = defaultdict(dict)\n",
    "n1 = Node(1)\n",
    "n2 = Node(2)\n",
    "d[n1][n2] = 1\n",
    "d\n",
    "\n",
    "l1 = [1, 2, 3, 4, 5]\n",
    "l2 = l1[1:3] # 切割出了一个新的list\n",
    "l2[0] = 100\n",
    "print(l1) # [1, 2, 3, 4, 5]\n",
    "print(l2) # [100, 3]\n",
    "\n",
    "\n",
    "# 因为 frozenset 是不可变的，所以你不能添加或删除它的元素。如果你试图这样做，Python 会抛出一个错误。\n",
    "fs = frozenset([1, 2, 3, 4, 5])\n",
    "print(fs)  # 输出：frozenset({1, 2, 3, 4, 5})\n",
    "d2 = {}\n",
    "d2[True] = 1\n",
    "d2[(1,2)] = 2\n",
    "d2['a'] = 3\n",
    "d2[4] = 4\n",
    "d2[1.2] = 5\n",
    "d2[fs] = 6\n",
    "d2[n1] = 7\n",
    "d2"
   ]
  },
  {
   "cell_type": "code",
   "execution_count": null,
   "metadata": {},
   "outputs": [],
   "source": [
    "# 1.dict作为函数入参是否加**，示例如下\n",
    "def my_print1(**mp): # mp是一个dict, 调用形式如下两种\n",
    "    print(mp) \n",
    "\n",
    "# （1）x和y被组装到一个dict传给mp   \n",
    "my_print1(x=2, y=3) # {'x': 2, 'y': 3}\n",
    "\n",
    "# （2）先显示把x和y组装到一个dict，然后传给mp,则调用的入参需要加**\n",
    "mp = {\"x\":1, 'y':2} # {'x': 1, 'y': 2}\n",
    "my_print1(**mp)\n",
    "\n",
    "# 2.直接把mp这个dict传进来，那my_print2就不能像my_print那样接受任意个关键字参数了，而是只能接受一个类似mp的dict作为参数。\n",
    "def my_print2(mp): \n",
    "    print(mp)\n",
    "    \n",
    "my_print2(mp) # {'x': 1, 'y': 2}\n",
    "\n"
   ]
  },
  {
   "cell_type": "code",
   "execution_count": 6,
   "metadata": {},
   "outputs": [
    {
     "name": "stdout",
     "output_type": "stream",
     "text": [
      "{'a': 1, 'g': 2, 'e': 3, 'c': 3, 7: 6, 0: 0}\n"
     ]
    }
   ],
   "source": [
    "d = {}\n",
    "\n",
    "d['a'] = 1\n",
    "d['g'] = 2\n",
    "d['e'] = 3\n",
    "d['c'] = 3\n",
    "d[7] = 6\n",
    "d[0] = 0\n",
    "print(d)"
   ]
  }
 ],
 "metadata": {
  "kernelspec": {
   "display_name": "py310",
   "language": "python",
   "name": "python3"
  },
  "language_info": {
   "codemirror_mode": {
    "name": "ipython",
    "version": 3
   },
   "file_extension": ".py",
   "mimetype": "text/x-python",
   "name": "python",
   "nbconvert_exporter": "python",
   "pygments_lexer": "ipython3",
   "version": "3.10.13"
  }
 },
 "nbformat": 4,
 "nbformat_minor": 2
}
