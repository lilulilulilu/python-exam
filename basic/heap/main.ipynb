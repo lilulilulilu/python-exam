{
 "cells": [
  {
   "cell_type": "code",
   "execution_count": null,
   "metadata": {},
   "outputs": [],
   "source": [
    "\n",
    "import heapq\n",
    "# 建立一个小根堆，heapq.heappush默认是小根堆\n",
    "min_heap = []\n",
    "heapq.heappush(min_heap, 3)\n",
    "heapq.heappush(min_heap, 2)\n",
    "heapq.heappush(min_heap, 5)\n",
    "\n",
    "print(min_heap)\n",
    "\n",
    "# heappop总是返回最小的元素\n",
    "while min_heap:\n",
    "    print(heapq.heappop(min_heap))\n",
    "    \n"
   ]
  },
  {
   "cell_type": "code",
   "execution_count": null,
   "metadata": {},
   "outputs": [],
   "source": [
    "import heapq\n",
    "nums = [1, 8, 2, 23, 7, -4, 18, 23, 42, 37, 2]\n",
    "print(min(nums)) # Prints -4\n",
    "print(max(nums)) # Prints 42\n",
    "print(heapq.nlargest(3, nums)) # Prints [42, 37, 23] 最大的3个值\n",
    "print(heapq.nsmallest(3, nums)) # Prints [-4, 1, 2] 最小的3个值\n"
   ]
  },
  {
   "cell_type": "code",
   "execution_count": null,
   "metadata": {},
   "outputs": [],
   "source": [
    "arr = [1, 3, 4, 6, 8,  5, 5]\n",
    "heapq.heapify(arr)\n",
    "print(arr)\n",
    "\n",
    "print(\"arr[0]:\",arr[0])\n",
    "while arr:\n",
    "  print(heapq.heappop(arr)) #每次都打印最小值"
   ]
  }
 ],
 "metadata": {
  "kernelspec": {
   "display_name": "py310",
   "language": "python",
   "name": "python3"
  },
  "language_info": {
   "codemirror_mode": {
    "name": "ipython",
    "version": 3
   },
   "file_extension": ".py",
   "mimetype": "text/x-python",
   "name": "python",
   "nbconvert_exporter": "python",
   "pygments_lexer": "ipython3",
   "version": "3.10.13"
  }
 },
 "nbformat": 4,
 "nbformat_minor": 2
}
