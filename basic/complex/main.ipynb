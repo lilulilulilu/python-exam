{
 "cells": [
  {
   "cell_type": "code",
   "execution_count": 1,
   "metadata": {},
   "outputs": [
    {
     "name": "stdout",
     "output_type": "stream",
     "text": [
      "Addition: (4+2j)\n",
      "Subtraction: (2+6j)\n",
      "Multiplication: (11-2j)\n",
      "Division: (-1+2j)\n"
     ]
    },
    {
     "data": {
      "text/plain": [
       "(-5+10j)"
      ]
     },
     "execution_count": 1,
     "metadata": {},
     "output_type": "execute_result"
    }
   ],
   "source": [
    "# Create two complex numbers\n",
    "z1 = 3 + 4j\n",
    "z2 = 1 - 2j\n",
    "\n",
    "# Addition\n",
    "result_add = z1 + z2\n",
    "print(\"Addition:\", result_add)  # Outputs: (4+2j)\n",
    "\n",
    "# Subtraction\n",
    "result_sub = z1 - z2\n",
    "print(\"Subtraction:\", result_sub)  # Outputs: (2+6j)\n",
    "\n",
    "# Multiplication\n",
    "result_mul = z1 * z2\n",
    "print(\"Multiplication:\", result_mul)  # Outputs: (11-2j)\n",
    "\n",
    "# Division\n",
    "result_div = z1 / z2\n",
    "print(\"Division:\", result_div)  # Outputs: (-1+2j)\n",
    "(1+2j)*(1-2j) # 5\n",
    "(1+2j)*(3+4j) # -5+10j/5=-1+2j\n"
   ]
  },
  {
   "cell_type": "code",
   "execution_count": 5,
   "metadata": {},
   "outputs": [
    {
     "name": "stdout",
     "output_type": "stream",
     "text": [
      "(3+4j)\n",
      "Real part: 3.0\n",
      "Imaginary part: 4.0\n",
      "Conjugate: (3-4j)\n",
      "Magnitude: 5.0\n"
     ]
    }
   ],
   "source": [
    "# Extracting parts and properties\n",
    "z1 = 3 + 4j\n",
    "print(z1) # (3+4j)\n",
    "real_part = z1.real  # Real part of z1, 实数部分\n",
    "imag_part = z1.imag  # Imaginary part of z1，虚数部分\n",
    "conjugate = z1.conjugate()  # Conjugate of z1， 共轭复数，3-4j\n",
    "magnitude = abs(z1)  # Magnitude (modulus) of z1，模，5.0 实数部分的平方加上虚数部分的平方再开方\n",
    "\n",
    "print(\"Real part:\", real_part)  # Outputs: 3.0\n",
    "print(\"Imaginary part:\", imag_part)  # Outputs: 4.0\n",
    "print(\"Conjugate:\", conjugate)  # Outputs: (3-4j)\n",
    "print(\"Magnitude:\", magnitude)  # Outputs: 5.0\n"
   ]
  }
 ],
 "metadata": {
  "kernelspec": {
   "display_name": "py310",
   "language": "python",
   "name": "python3"
  },
  "language_info": {
   "codemirror_mode": {
    "name": "ipython",
    "version": 3
   },
   "file_extension": ".py",
   "mimetype": "text/x-python",
   "name": "python",
   "nbconvert_exporter": "python",
   "pygments_lexer": "ipython3",
   "version": "3.10.13"
  }
 },
 "nbformat": 4,
 "nbformat_minor": 2
}
