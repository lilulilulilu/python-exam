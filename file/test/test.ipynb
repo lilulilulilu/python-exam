{
 "cells": [
  {
   "cell_type": "code",
   "execution_count": 9,
   "metadata": {},
   "outputs": [
    {
     "data": {
      "text/plain": [
       "['def get_lines(filename):\\n',\n",
       " \"    with open(filename, 'r+') as f:\\n\",\n",
       " '        return f.readlines()\\n',\n",
       " '\\n',\n",
       " 'def get_lines(filename):\\n',\n",
       " \"    with open(filename, 'r+') as f:\\n\",\n",
       " '        for line in f:\\n',\n",
       " '            print(line)\\n',\n",
       " '            \\n',\n",
       " 'def get_lines(filename):\\n',\n",
       " \"    with open(filename, 'r+') as f:\\n\",\n",
       " '        for line in f:\\n',\n",
       " '            yield line\\n',\n",
       " '            \\n',\n",
       " '\\n',\n",
       " 'def get_lines(filename, n):\\n',\n",
       " '    l = []\\n',\n",
       " '    i = 1\\n',\n",
       " \"    with open(filename, 'r+') as f:\\n\",\n",
       " '        for line in f:\\n',\n",
       " '            l.append(line)\\n',\n",
       " '            i += 1\\n',\n",
       " '            if i%n == 0:\\n',\n",
       " '                yield l\\n',\n",
       " '            \\n',\n",
       " 'f = open(\"test.py\", \\'r+\\') \\n',\n",
       " 'f.readlines()          ']"
      ]
     },
     "execution_count": 9,
     "metadata": {},
     "output_type": "execute_result"
    }
   ],
   "source": [
    "f = open(\"test.py\", 'r+') \n",
    "f.readlines()          "
   ]
  },
  {
   "cell_type": "code",
   "execution_count": 10,
   "metadata": {},
   "outputs": [
    {
     "data": {
      "text/plain": [
       "'def get_lines(filename):\\n'"
      ]
     },
     "execution_count": 10,
     "metadata": {},
     "output_type": "execute_result"
    }
   ],
   "source": [
    "f = open(\"test.py\", 'r+') \n",
    "\n",
    "f.readline()"
   ]
  },
  {
   "cell_type": "code",
   "execution_count": 11,
   "metadata": {},
   "outputs": [
    {
     "data": {
      "text/plain": [
       "\"    with open(filename, 'r+') as f:\\n\""
      ]
     },
     "execution_count": 11,
     "metadata": {},
     "output_type": "execute_result"
    }
   ],
   "source": [
    "f.readline()"
   ]
  },
  {
   "cell_type": "code",
   "execution_count": 17,
   "metadata": {},
   "outputs": [
    {
     "name": "stdout",
     "output_type": "stream",
     "text": [
      "[('i', 12), ('a', 24), ('k', 33), ('g', 52)]\n"
     ]
    },
    {
     "data": {
      "text/plain": [
       "('i', 12)"
      ]
     },
     "execution_count": 17,
     "metadata": {},
     "output_type": "execute_result"
    }
   ],
   "source": [
    "d= {'a':24,'g':52,'i':12,'k':33}\n",
    "l = list(d.items())\n",
    "l.sort(key=lambda x:x[1])\n",
    "print(l) # [('i', 12), ('a', 24), ('k', 33), ('g', 52)]\n",
    "l1 = sorted(d.items(), key=lambda x:x[1])\n",
    "l1[0]"
   ]
  }
 ],
 "metadata": {
  "kernelspec": {
   "display_name": "py310",
   "language": "python",
   "name": "python3"
  },
  "language_info": {
   "codemirror_mode": {
    "name": "ipython",
    "version": 3
   },
   "file_extension": ".py",
   "mimetype": "text/x-python",
   "name": "python",
   "nbconvert_exporter": "python",
   "pygments_lexer": "ipython3",
   "version": "3.10.13"
  }
 },
 "nbformat": 4,
 "nbformat_minor": 2
}
