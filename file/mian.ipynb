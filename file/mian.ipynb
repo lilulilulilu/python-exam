{
 "cells": [
  {
   "cell_type": "code",
   "execution_count": 5,
   "metadata": {},
   "outputs": [
    {
     "name": "stdout",
     "output_type": "stream",
     "text": [
      "['test', 'mian.ipynb', 'text.txt', 'main.py', 'text.jsonl']\n",
      "mian.ipynb\n",
      "text.txt\n",
      "main.py\n",
      "text.jsonl\n"
     ]
    }
   ],
   "source": [
    "import os\n",
    "filenames = os.listdir('.')\n",
    "print(filenames)\n",
    "\n",
    "# print filename if it is a file\n",
    "for f in filenames:\n",
    "    if os.path.isfile(f):\n",
    "        print(f)"
   ]
  },
  {
   "cell_type": "code",
   "execution_count": 1,
   "metadata": {},
   "outputs": [
    {
     "name": "stdout",
     "output_type": "stream",
     "text": [
      "sys.version_info(major=3, minor=10, micro=13, releaselevel='final', serial=0)\n",
      "3.10.13 (main, Sep 11 2023, 08:39:02) [Clang 14.0.6 ]\n"
     ]
    }
   ],
   "source": [
    "import sys\n",
    "\n",
    "print(sys.version_info)\n",
    "print(sys.version)"
   ]
  },
  {
   "cell_type": "code",
   "execution_count": 2,
   "metadata": {},
   "outputs": [
    {
     "name": "stdout",
     "output_type": "stream",
     "text": [
      "darwin\n",
      "namespace(name='cpython', cache_tag='cpython-310', version=sys.version_info(major=3, minor=10, micro=13, releaselevel='final', serial=0), hexversion=50990576, _multiarch='darwin')\n"
     ]
    }
   ],
   "source": [
    "import sys\n",
    "\n",
    "print(sys.platform)\n",
    "print(sys.implementation)"
   ]
  }
 ],
 "metadata": {
  "kernelspec": {
   "display_name": "py310",
   "language": "python",
   "name": "python3"
  },
  "language_info": {
   "codemirror_mode": {
    "name": "ipython",
    "version": 3
   },
   "file_extension": ".py",
   "mimetype": "text/x-python",
   "name": "python",
   "nbconvert_exporter": "python",
   "pygments_lexer": "ipython3",
   "version": "3.10.13"
  }
 },
 "nbformat": 4,
 "nbformat_minor": 2
}
